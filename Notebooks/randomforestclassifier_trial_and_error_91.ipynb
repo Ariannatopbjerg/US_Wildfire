{
 "cells": [
  {
   "cell_type": "code",
   "execution_count": 1,
   "id": "e3509364",
   "metadata": {},
   "outputs": [],
   "source": [
    "# Import our dependencies\n",
    "from sklearn.model_selection import train_test_split\n",
    "from sklearn.preprocessing import StandardScaler\n",
    "from sklearn.ensemble import RandomForestRegressor\n",
    "from sklearn.ensemble import RandomForestClassifier\n",
    "from sklearn.metrics import accuracy_score\n",
    "from sklearn.preprocessing import OneHotEncoder\n",
    "from sklearn.svm import SVC\n",
    "import pandas as pd\n",
    "import tensorflow as tf"
   ]
  },
  {
   "cell_type": "code",
   "execution_count": 2,
   "id": "718482c3",
   "metadata": {},
   "outputs": [
    {
     "data": {
      "text/html": [
       "<div>\n",
       "<style scoped>\n",
       "    .dataframe tbody tr th:only-of-type {\n",
       "        vertical-align: middle;\n",
       "    }\n",
       "\n",
       "    .dataframe tbody tr th {\n",
       "        vertical-align: top;\n",
       "    }\n",
       "\n",
       "    .dataframe thead th {\n",
       "        text-align: right;\n",
       "    }\n",
       "</style>\n",
       "<table border=\"1\" class=\"dataframe\">\n",
       "  <thead>\n",
       "    <tr style=\"text-align: right;\">\n",
       "      <th></th>\n",
       "      <th>Fire_Size</th>\n",
       "      <th>Fire_Size_Class</th>\n",
       "      <th>Fire_Cause</th>\n",
       "      <th>Latitude</th>\n",
       "      <th>Longitude</th>\n",
       "      <th>State</th>\n",
       "      <th>Discovery_Month</th>\n",
       "      <th>Discovery_Date</th>\n",
       "      <th>Discovery_Year</th>\n",
       "      <th>Vegetation</th>\n",
       "      <th>...</th>\n",
       "      <th>Wind_Pre_7</th>\n",
       "      <th>Wind_Present</th>\n",
       "      <th>Hum_Pre_30</th>\n",
       "      <th>Hum_Pre_15</th>\n",
       "      <th>Hum_Pre_7</th>\n",
       "      <th>Hum_Present</th>\n",
       "      <th>Prec_Pre_30</th>\n",
       "      <th>Prec_Pre_15</th>\n",
       "      <th>Prec_Pre_7</th>\n",
       "      <th>Prec_Present</th>\n",
       "    </tr>\n",
       "  </thead>\n",
       "  <tbody>\n",
       "    <tr>\n",
       "      <th>0</th>\n",
       "      <td>60.0</td>\n",
       "      <td>C</td>\n",
       "      <td>Arson</td>\n",
       "      <td>34.947800</td>\n",
       "      <td>-88.722500</td>\n",
       "      <td>MS</td>\n",
       "      <td>Feb</td>\n",
       "      <td>1/30/2004</td>\n",
       "      <td>2004</td>\n",
       "      <td>16</td>\n",
       "      <td>...</td>\n",
       "      <td>2.695833</td>\n",
       "      <td>3.369050</td>\n",
       "      <td>75.531629</td>\n",
       "      <td>75.868613</td>\n",
       "      <td>76.812834</td>\n",
       "      <td>65.063800</td>\n",
       "      <td>168.8</td>\n",
       "      <td>42.2</td>\n",
       "      <td>18.1</td>\n",
       "      <td>124.5</td>\n",
       "    </tr>\n",
       "    <tr>\n",
       "      <th>1</th>\n",
       "      <td>1.0</td>\n",
       "      <td>B</td>\n",
       "      <td>Campfire</td>\n",
       "      <td>30.904720</td>\n",
       "      <td>-93.557500</td>\n",
       "      <td>TX</td>\n",
       "      <td>Nov</td>\n",
       "      <td>10/13/2005</td>\n",
       "      <td>2005</td>\n",
       "      <td>12</td>\n",
       "      <td>...</td>\n",
       "      <td>1.424783</td>\n",
       "      <td>2.148857</td>\n",
       "      <td>72.899478</td>\n",
       "      <td>75.061381</td>\n",
       "      <td>77.924623</td>\n",
       "      <td>70.732911</td>\n",
       "      <td>28.4</td>\n",
       "      <td>27.5</td>\n",
       "      <td>1.2</td>\n",
       "      <td>55.4</td>\n",
       "    </tr>\n",
       "    <tr>\n",
       "      <th>2</th>\n",
       "      <td>8.3</td>\n",
       "      <td>B</td>\n",
       "      <td>Debris Burning</td>\n",
       "      <td>30.845339</td>\n",
       "      <td>-83.127987</td>\n",
       "      <td>GA</td>\n",
       "      <td>Mar</td>\n",
       "      <td>2/4/2010</td>\n",
       "      <td>2010</td>\n",
       "      <td>12</td>\n",
       "      <td>...</td>\n",
       "      <td>2.224500</td>\n",
       "      <td>1.750701</td>\n",
       "      <td>71.260870</td>\n",
       "      <td>69.281030</td>\n",
       "      <td>64.797980</td>\n",
       "      <td>73.072072</td>\n",
       "      <td>76.3</td>\n",
       "      <td>26.2</td>\n",
       "      <td>8.4</td>\n",
       "      <td>40.5</td>\n",
       "    </tr>\n",
       "    <tr>\n",
       "      <th>3</th>\n",
       "      <td>1.0</td>\n",
       "      <td>B</td>\n",
       "      <td>Miscellaneous</td>\n",
       "      <td>42.731934</td>\n",
       "      <td>-77.905976</td>\n",
       "      <td>NY</td>\n",
       "      <td>Apr</td>\n",
       "      <td>3/4/2010</td>\n",
       "      <td>2010</td>\n",
       "      <td>4</td>\n",
       "      <td>...</td>\n",
       "      <td>3.744928</td>\n",
       "      <td>2.872771</td>\n",
       "      <td>68.640553</td>\n",
       "      <td>69.556263</td>\n",
       "      <td>63.966184</td>\n",
       "      <td>59.956798</td>\n",
       "      <td>52.9</td>\n",
       "      <td>38.4</td>\n",
       "      <td>2.3</td>\n",
       "      <td>30.5</td>\n",
       "    </tr>\n",
       "    <tr>\n",
       "      <th>4</th>\n",
       "      <td>20.0</td>\n",
       "      <td>C</td>\n",
       "      <td>Arson</td>\n",
       "      <td>31.122200</td>\n",
       "      <td>-88.099400</td>\n",
       "      <td>AL</td>\n",
       "      <td>Jun</td>\n",
       "      <td>5/5/2000</td>\n",
       "      <td>2000</td>\n",
       "      <td>12</td>\n",
       "      <td>...</td>\n",
       "      <td>2.899537</td>\n",
       "      <td>2.623313</td>\n",
       "      <td>73.717979</td>\n",
       "      <td>74.603325</td>\n",
       "      <td>69.440594</td>\n",
       "      <td>77.471227</td>\n",
       "      <td>93.7</td>\n",
       "      <td>85.3</td>\n",
       "      <td>41.4</td>\n",
       "      <td>154.3</td>\n",
       "    </tr>\n",
       "    <tr>\n",
       "      <th>...</th>\n",
       "      <td>...</td>\n",
       "      <td>...</td>\n",
       "      <td>...</td>\n",
       "      <td>...</td>\n",
       "      <td>...</td>\n",
       "      <td>...</td>\n",
       "      <td>...</td>\n",
       "      <td>...</td>\n",
       "      <td>...</td>\n",
       "      <td>...</td>\n",
       "      <td>...</td>\n",
       "      <td>...</td>\n",
       "      <td>...</td>\n",
       "      <td>...</td>\n",
       "      <td>...</td>\n",
       "      <td>...</td>\n",
       "      <td>...</td>\n",
       "      <td>...</td>\n",
       "      <td>...</td>\n",
       "      <td>...</td>\n",
       "      <td>...</td>\n",
       "    </tr>\n",
       "    <tr>\n",
       "      <th>7279</th>\n",
       "      <td>3082.0</td>\n",
       "      <td>F</td>\n",
       "      <td>Lightning</td>\n",
       "      <td>48.383600</td>\n",
       "      <td>-117.891900</td>\n",
       "      <td>WA</td>\n",
       "      <td>Aug</td>\n",
       "      <td>7/15/2015</td>\n",
       "      <td>2015</td>\n",
       "      <td>15</td>\n",
       "      <td>...</td>\n",
       "      <td>2.026590</td>\n",
       "      <td>2.918241</td>\n",
       "      <td>37.301713</td>\n",
       "      <td>36.085561</td>\n",
       "      <td>40.526012</td>\n",
       "      <td>49.762009</td>\n",
       "      <td>2.0</td>\n",
       "      <td>2.0</td>\n",
       "      <td>2.0</td>\n",
       "      <td>9.2</td>\n",
       "    </tr>\n",
       "    <tr>\n",
       "      <th>7280</th>\n",
       "      <td>4800.0</td>\n",
       "      <td>F</td>\n",
       "      <td>Equipment Use</td>\n",
       "      <td>45.135700</td>\n",
       "      <td>-99.908700</td>\n",
       "      <td>SD</td>\n",
       "      <td>Apr</td>\n",
       "      <td>3/2/2015</td>\n",
       "      <td>2015</td>\n",
       "      <td>9</td>\n",
       "      <td>...</td>\n",
       "      <td>6.023590</td>\n",
       "      <td>5.456159</td>\n",
       "      <td>58.984906</td>\n",
       "      <td>61.466667</td>\n",
       "      <td>60.994872</td>\n",
       "      <td>56.239420</td>\n",
       "      <td>4.4</td>\n",
       "      <td>4.4</td>\n",
       "      <td>4.1</td>\n",
       "      <td>12.2</td>\n",
       "    </tr>\n",
       "    <tr>\n",
       "      <th>7281</th>\n",
       "      <td>5100.0</td>\n",
       "      <td>G</td>\n",
       "      <td>Equipment Use</td>\n",
       "      <td>45.069700</td>\n",
       "      <td>-99.821100</td>\n",
       "      <td>SD</td>\n",
       "      <td>Apr</td>\n",
       "      <td>3/3/2015</td>\n",
       "      <td>2015</td>\n",
       "      <td>9</td>\n",
       "      <td>...</td>\n",
       "      <td>5.436216</td>\n",
       "      <td>5.316949</td>\n",
       "      <td>57.976101</td>\n",
       "      <td>59.909524</td>\n",
       "      <td>58.129730</td>\n",
       "      <td>56.989091</td>\n",
       "      <td>4.4</td>\n",
       "      <td>4.4</td>\n",
       "      <td>4.1</td>\n",
       "      <td>12.7</td>\n",
       "    </tr>\n",
       "    <tr>\n",
       "      <th>7282</th>\n",
       "      <td>17823.0</td>\n",
       "      <td>G</td>\n",
       "      <td>Campfire</td>\n",
       "      <td>44.834600</td>\n",
       "      <td>-117.220600</td>\n",
       "      <td>OR</td>\n",
       "      <td>Sep</td>\n",
       "      <td>8/13/2015</td>\n",
       "      <td>2015</td>\n",
       "      <td>15</td>\n",
       "      <td>...</td>\n",
       "      <td>1.835821</td>\n",
       "      <td>2.292956</td>\n",
       "      <td>55.009259</td>\n",
       "      <td>62.368700</td>\n",
       "      <td>67.266304</td>\n",
       "      <td>58.917679</td>\n",
       "      <td>10.4</td>\n",
       "      <td>10.4</td>\n",
       "      <td>9.4</td>\n",
       "      <td>8.6</td>\n",
       "    </tr>\n",
       "    <tr>\n",
       "      <th>7283</th>\n",
       "      <td>4336.0</td>\n",
       "      <td>F</td>\n",
       "      <td>Lightning</td>\n",
       "      <td>34.316000</td>\n",
       "      <td>-112.268300</td>\n",
       "      <td>AZ</td>\n",
       "      <td>Aug</td>\n",
       "      <td>7/3/2015</td>\n",
       "      <td>2015</td>\n",
       "      <td>16</td>\n",
       "      <td>...</td>\n",
       "      <td>2.924852</td>\n",
       "      <td>3.193614</td>\n",
       "      <td>45.053836</td>\n",
       "      <td>46.349030</td>\n",
       "      <td>40.786982</td>\n",
       "      <td>49.818887</td>\n",
       "      <td>86.9</td>\n",
       "      <td>78.8</td>\n",
       "      <td>6.9</td>\n",
       "      <td>41.0</td>\n",
       "    </tr>\n",
       "  </tbody>\n",
       "</table>\n",
       "<p>7284 rows × 27 columns</p>\n",
       "</div>"
      ],
      "text/plain": [
       "      Fire_Size Fire_Size_Class      Fire_Cause   Latitude   Longitude State  \\\n",
       "0          60.0               C           Arson  34.947800  -88.722500    MS   \n",
       "1           1.0               B        Campfire  30.904720  -93.557500    TX   \n",
       "2           8.3               B  Debris Burning  30.845339  -83.127987    GA   \n",
       "3           1.0               B   Miscellaneous  42.731934  -77.905976    NY   \n",
       "4          20.0               C           Arson  31.122200  -88.099400    AL   \n",
       "...         ...             ...             ...        ...         ...   ...   \n",
       "7279     3082.0               F       Lightning  48.383600 -117.891900    WA   \n",
       "7280     4800.0               F   Equipment Use  45.135700  -99.908700    SD   \n",
       "7281     5100.0               G   Equipment Use  45.069700  -99.821100    SD   \n",
       "7282    17823.0               G        Campfire  44.834600 -117.220600    OR   \n",
       "7283     4336.0               F       Lightning  34.316000 -112.268300    AZ   \n",
       "\n",
       "     Discovery_Month Discovery_Date  Discovery_Year  Vegetation  ...  \\\n",
       "0                Feb      1/30/2004            2004          16  ...   \n",
       "1                Nov     10/13/2005            2005          12  ...   \n",
       "2                Mar       2/4/2010            2010          12  ...   \n",
       "3                Apr       3/4/2010            2010           4  ...   \n",
       "4                Jun       5/5/2000            2000          12  ...   \n",
       "...              ...            ...             ...         ...  ...   \n",
       "7279             Aug      7/15/2015            2015          15  ...   \n",
       "7280             Apr       3/2/2015            2015           9  ...   \n",
       "7281             Apr       3/3/2015            2015           9  ...   \n",
       "7282             Sep      8/13/2015            2015          15  ...   \n",
       "7283             Aug       7/3/2015            2015          16  ...   \n",
       "\n",
       "      Wind_Pre_7  Wind_Present  Hum_Pre_30  Hum_Pre_15  Hum_Pre_7  \\\n",
       "0       2.695833      3.369050   75.531629   75.868613  76.812834   \n",
       "1       1.424783      2.148857   72.899478   75.061381  77.924623   \n",
       "2       2.224500      1.750701   71.260870   69.281030  64.797980   \n",
       "3       3.744928      2.872771   68.640553   69.556263  63.966184   \n",
       "4       2.899537      2.623313   73.717979   74.603325  69.440594   \n",
       "...          ...           ...         ...         ...        ...   \n",
       "7279    2.026590      2.918241   37.301713   36.085561  40.526012   \n",
       "7280    6.023590      5.456159   58.984906   61.466667  60.994872   \n",
       "7281    5.436216      5.316949   57.976101   59.909524  58.129730   \n",
       "7282    1.835821      2.292956   55.009259   62.368700  67.266304   \n",
       "7283    2.924852      3.193614   45.053836   46.349030  40.786982   \n",
       "\n",
       "      Hum_Present  Prec_Pre_30  Prec_Pre_15  Prec_Pre_7  Prec_Present  \n",
       "0       65.063800        168.8         42.2        18.1         124.5  \n",
       "1       70.732911         28.4         27.5         1.2          55.4  \n",
       "2       73.072072         76.3         26.2         8.4          40.5  \n",
       "3       59.956798         52.9         38.4         2.3          30.5  \n",
       "4       77.471227         93.7         85.3        41.4         154.3  \n",
       "...           ...          ...          ...         ...           ...  \n",
       "7279    49.762009          2.0          2.0         2.0           9.2  \n",
       "7280    56.239420          4.4          4.4         4.1          12.2  \n",
       "7281    56.989091          4.4          4.4         4.1          12.7  \n",
       "7282    58.917679         10.4         10.4         9.4           8.6  \n",
       "7283    49.818887         86.9         78.8         6.9          41.0  \n",
       "\n",
       "[7284 rows x 27 columns]"
      ]
     },
     "execution_count": 2,
     "metadata": {},
     "output_type": "execute_result"
    }
   ],
   "source": [
    "# Import our input dataset\n",
    "fire_data_df = pd.read_csv('../Resources/wildfire_data_final.csv')\n",
    "fire_data_df"
   ]
  },
  {
   "cell_type": "code",
   "execution_count": 3,
   "id": "633d73fa",
   "metadata": {},
   "outputs": [
    {
     "data": {
      "text/plain": [
       "Index(['Fire_Size', 'Fire_Size_Class', 'Fire_Cause', 'Latitude', 'Longitude',\n",
       "       'State', 'Discovery_Month', 'Discovery_Date', 'Discovery_Year',\n",
       "       'Vegetation', 'Fire_Magnitude', 'Temp_Pre_30', 'Temp_Pre_15',\n",
       "       'Temp_Pre_7', 'Temp_Present', 'Wind_Pre_30', 'Wind_Pre_15',\n",
       "       'Wind_Pre_7', 'Wind_Present', 'Hum_Pre_30', 'Hum_Pre_15', 'Hum_Pre_7',\n",
       "       'Hum_Present', 'Prec_Pre_30', 'Prec_Pre_15', 'Prec_Pre_7',\n",
       "       'Prec_Present'],\n",
       "      dtype='object')"
      ]
     },
     "execution_count": 3,
     "metadata": {},
     "output_type": "execute_result"
    }
   ],
   "source": [
    "fire_data_df.columns"
   ]
  },
  {
   "cell_type": "code",
   "execution_count": 4,
   "id": "37990497",
   "metadata": {},
   "outputs": [
    {
     "data": {
      "text/html": [
       "<div>\n",
       "<style scoped>\n",
       "    .dataframe tbody tr th:only-of-type {\n",
       "        vertical-align: middle;\n",
       "    }\n",
       "\n",
       "    .dataframe tbody tr th {\n",
       "        vertical-align: top;\n",
       "    }\n",
       "\n",
       "    .dataframe thead th {\n",
       "        text-align: right;\n",
       "    }\n",
       "</style>\n",
       "<table border=\"1\" class=\"dataframe\">\n",
       "  <thead>\n",
       "    <tr style=\"text-align: right;\">\n",
       "      <th></th>\n",
       "      <th>Fire_Size</th>\n",
       "      <th>Fire_Cause</th>\n",
       "      <th>Latitude</th>\n",
       "      <th>Longitude</th>\n",
       "      <th>State</th>\n",
       "      <th>Discovery_Date</th>\n",
       "    </tr>\n",
       "  </thead>\n",
       "  <tbody>\n",
       "    <tr>\n",
       "      <th>0</th>\n",
       "      <td>60.0</td>\n",
       "      <td>Arson</td>\n",
       "      <td>34.947800</td>\n",
       "      <td>-88.722500</td>\n",
       "      <td>MS</td>\n",
       "      <td>1/30/2004</td>\n",
       "    </tr>\n",
       "    <tr>\n",
       "      <th>1</th>\n",
       "      <td>1.0</td>\n",
       "      <td>Campfire</td>\n",
       "      <td>30.904720</td>\n",
       "      <td>-93.557500</td>\n",
       "      <td>TX</td>\n",
       "      <td>10/13/2005</td>\n",
       "    </tr>\n",
       "    <tr>\n",
       "      <th>2</th>\n",
       "      <td>8.3</td>\n",
       "      <td>Debris Burning</td>\n",
       "      <td>30.845339</td>\n",
       "      <td>-83.127987</td>\n",
       "      <td>GA</td>\n",
       "      <td>2/4/2010</td>\n",
       "    </tr>\n",
       "    <tr>\n",
       "      <th>3</th>\n",
       "      <td>1.0</td>\n",
       "      <td>Miscellaneous</td>\n",
       "      <td>42.731934</td>\n",
       "      <td>-77.905976</td>\n",
       "      <td>NY</td>\n",
       "      <td>3/4/2010</td>\n",
       "    </tr>\n",
       "    <tr>\n",
       "      <th>4</th>\n",
       "      <td>20.0</td>\n",
       "      <td>Arson</td>\n",
       "      <td>31.122200</td>\n",
       "      <td>-88.099400</td>\n",
       "      <td>AL</td>\n",
       "      <td>5/5/2000</td>\n",
       "    </tr>\n",
       "    <tr>\n",
       "      <th>...</th>\n",
       "      <td>...</td>\n",
       "      <td>...</td>\n",
       "      <td>...</td>\n",
       "      <td>...</td>\n",
       "      <td>...</td>\n",
       "      <td>...</td>\n",
       "    </tr>\n",
       "    <tr>\n",
       "      <th>7279</th>\n",
       "      <td>3082.0</td>\n",
       "      <td>Lightning</td>\n",
       "      <td>48.383600</td>\n",
       "      <td>-117.891900</td>\n",
       "      <td>WA</td>\n",
       "      <td>7/15/2015</td>\n",
       "    </tr>\n",
       "    <tr>\n",
       "      <th>7280</th>\n",
       "      <td>4800.0</td>\n",
       "      <td>Equipment Use</td>\n",
       "      <td>45.135700</td>\n",
       "      <td>-99.908700</td>\n",
       "      <td>SD</td>\n",
       "      <td>3/2/2015</td>\n",
       "    </tr>\n",
       "    <tr>\n",
       "      <th>7281</th>\n",
       "      <td>5100.0</td>\n",
       "      <td>Equipment Use</td>\n",
       "      <td>45.069700</td>\n",
       "      <td>-99.821100</td>\n",
       "      <td>SD</td>\n",
       "      <td>3/3/2015</td>\n",
       "    </tr>\n",
       "    <tr>\n",
       "      <th>7282</th>\n",
       "      <td>17823.0</td>\n",
       "      <td>Campfire</td>\n",
       "      <td>44.834600</td>\n",
       "      <td>-117.220600</td>\n",
       "      <td>OR</td>\n",
       "      <td>8/13/2015</td>\n",
       "    </tr>\n",
       "    <tr>\n",
       "      <th>7283</th>\n",
       "      <td>4336.0</td>\n",
       "      <td>Lightning</td>\n",
       "      <td>34.316000</td>\n",
       "      <td>-112.268300</td>\n",
       "      <td>AZ</td>\n",
       "      <td>7/3/2015</td>\n",
       "    </tr>\n",
       "  </tbody>\n",
       "</table>\n",
       "<p>7284 rows × 6 columns</p>\n",
       "</div>"
      ],
      "text/plain": [
       "      Fire_Size      Fire_Cause   Latitude   Longitude State Discovery_Date\n",
       "0          60.0           Arson  34.947800  -88.722500    MS      1/30/2004\n",
       "1           1.0        Campfire  30.904720  -93.557500    TX     10/13/2005\n",
       "2           8.3  Debris Burning  30.845339  -83.127987    GA       2/4/2010\n",
       "3           1.0   Miscellaneous  42.731934  -77.905976    NY       3/4/2010\n",
       "4          20.0           Arson  31.122200  -88.099400    AL       5/5/2000\n",
       "...         ...             ...        ...         ...   ...            ...\n",
       "7279     3082.0       Lightning  48.383600 -117.891900    WA      7/15/2015\n",
       "7280     4800.0   Equipment Use  45.135700  -99.908700    SD       3/2/2015\n",
       "7281     5100.0   Equipment Use  45.069700  -99.821100    SD       3/3/2015\n",
       "7282    17823.0        Campfire  44.834600 -117.220600    OR      8/13/2015\n",
       "7283     4336.0       Lightning  34.316000 -112.268300    AZ       7/3/2015\n",
       "\n",
       "[7284 rows x 6 columns]"
      ]
     },
     "execution_count": 4,
     "metadata": {},
     "output_type": "execute_result"
    }
   ],
   "source": [
    "fire_clean_df=fire_data_df.drop(columns=[\"Fire_Size_Class\",\"Discovery_Month\",\"Discovery_Year\",\n",
    "                                          \"Fire_Magnitude\",\n",
    "                                           \"Temp_Pre_30\",\"Temp_Pre_15\",\"Temp_Pre_7\",\n",
    "                                           \"Wind_Pre_30\",\"Wind_Pre_15\",\"Wind_Pre_7\",\n",
    "                                           \"Hum_Pre_30\", \"Hum_Pre_15\", \"Hum_Pre_7\",\n",
    "                                           \"Prec_Pre_30\", \"Prec_Pre_15\",\"Prec_Pre_7\",\n",
    "                                           \"Vegetation\",\"Temp_Present\",\"Wind_Present\",\"Hum_Present\",\"Prec_Present\"\n",
    "                                           ])\n",
    "fire_clean_df"
   ]
  },
  {
   "cell_type": "code",
   "execution_count": 5,
   "id": "42e4d497",
   "metadata": {},
   "outputs": [
    {
     "data": {
      "text/html": [
       "<div>\n",
       "<style scoped>\n",
       "    .dataframe tbody tr th:only-of-type {\n",
       "        vertical-align: middle;\n",
       "    }\n",
       "\n",
       "    .dataframe tbody tr th {\n",
       "        vertical-align: top;\n",
       "    }\n",
       "\n",
       "    .dataframe thead th {\n",
       "        text-align: right;\n",
       "    }\n",
       "</style>\n",
       "<table border=\"1\" class=\"dataframe\">\n",
       "  <thead>\n",
       "    <tr style=\"text-align: right;\">\n",
       "      <th></th>\n",
       "      <th>Fire_Cause_Arson</th>\n",
       "      <th>Fire_Cause_Campfire</th>\n",
       "      <th>Fire_Cause_Children</th>\n",
       "      <th>Fire_Cause_Debris Burning</th>\n",
       "      <th>Fire_Cause_Equipment Use</th>\n",
       "      <th>Fire_Cause_Fireworks</th>\n",
       "      <th>Fire_Cause_Lightning</th>\n",
       "      <th>Fire_Cause_Miscellaneous</th>\n",
       "      <th>Fire_Cause_Missing/Undefined</th>\n",
       "      <th>Fire_Cause_Powerline</th>\n",
       "      <th>...</th>\n",
       "      <th>Discovery_Date_9/8/1999</th>\n",
       "      <th>Discovery_Date_9/8/2005</th>\n",
       "      <th>Discovery_Date_9/8/2006</th>\n",
       "      <th>Discovery_Date_9/8/2008</th>\n",
       "      <th>Discovery_Date_9/8/2013</th>\n",
       "      <th>Discovery_Date_9/9/2000</th>\n",
       "      <th>Discovery_Date_9/9/2005</th>\n",
       "      <th>Discovery_Date_9/9/2006</th>\n",
       "      <th>Discovery_Date_9/9/2010</th>\n",
       "      <th>Discovery_Date_9/9/2015</th>\n",
       "    </tr>\n",
       "  </thead>\n",
       "  <tbody>\n",
       "    <tr>\n",
       "      <th>0</th>\n",
       "      <td>1.0</td>\n",
       "      <td>0.0</td>\n",
       "      <td>0.0</td>\n",
       "      <td>0.0</td>\n",
       "      <td>0.0</td>\n",
       "      <td>0.0</td>\n",
       "      <td>0.0</td>\n",
       "      <td>0.0</td>\n",
       "      <td>0.0</td>\n",
       "      <td>0.0</td>\n",
       "      <td>...</td>\n",
       "      <td>0.0</td>\n",
       "      <td>0.0</td>\n",
       "      <td>0.0</td>\n",
       "      <td>0.0</td>\n",
       "      <td>0.0</td>\n",
       "      <td>0.0</td>\n",
       "      <td>0.0</td>\n",
       "      <td>0.0</td>\n",
       "      <td>0.0</td>\n",
       "      <td>0.0</td>\n",
       "    </tr>\n",
       "    <tr>\n",
       "      <th>1</th>\n",
       "      <td>0.0</td>\n",
       "      <td>1.0</td>\n",
       "      <td>0.0</td>\n",
       "      <td>0.0</td>\n",
       "      <td>0.0</td>\n",
       "      <td>0.0</td>\n",
       "      <td>0.0</td>\n",
       "      <td>0.0</td>\n",
       "      <td>0.0</td>\n",
       "      <td>0.0</td>\n",
       "      <td>...</td>\n",
       "      <td>0.0</td>\n",
       "      <td>0.0</td>\n",
       "      <td>0.0</td>\n",
       "      <td>0.0</td>\n",
       "      <td>0.0</td>\n",
       "      <td>0.0</td>\n",
       "      <td>0.0</td>\n",
       "      <td>0.0</td>\n",
       "      <td>0.0</td>\n",
       "      <td>0.0</td>\n",
       "    </tr>\n",
       "    <tr>\n",
       "      <th>2</th>\n",
       "      <td>0.0</td>\n",
       "      <td>0.0</td>\n",
       "      <td>0.0</td>\n",
       "      <td>1.0</td>\n",
       "      <td>0.0</td>\n",
       "      <td>0.0</td>\n",
       "      <td>0.0</td>\n",
       "      <td>0.0</td>\n",
       "      <td>0.0</td>\n",
       "      <td>0.0</td>\n",
       "      <td>...</td>\n",
       "      <td>0.0</td>\n",
       "      <td>0.0</td>\n",
       "      <td>0.0</td>\n",
       "      <td>0.0</td>\n",
       "      <td>0.0</td>\n",
       "      <td>0.0</td>\n",
       "      <td>0.0</td>\n",
       "      <td>0.0</td>\n",
       "      <td>0.0</td>\n",
       "      <td>0.0</td>\n",
       "    </tr>\n",
       "    <tr>\n",
       "      <th>3</th>\n",
       "      <td>0.0</td>\n",
       "      <td>0.0</td>\n",
       "      <td>0.0</td>\n",
       "      <td>0.0</td>\n",
       "      <td>0.0</td>\n",
       "      <td>0.0</td>\n",
       "      <td>0.0</td>\n",
       "      <td>1.0</td>\n",
       "      <td>0.0</td>\n",
       "      <td>0.0</td>\n",
       "      <td>...</td>\n",
       "      <td>0.0</td>\n",
       "      <td>0.0</td>\n",
       "      <td>0.0</td>\n",
       "      <td>0.0</td>\n",
       "      <td>0.0</td>\n",
       "      <td>0.0</td>\n",
       "      <td>0.0</td>\n",
       "      <td>0.0</td>\n",
       "      <td>0.0</td>\n",
       "      <td>0.0</td>\n",
       "    </tr>\n",
       "    <tr>\n",
       "      <th>4</th>\n",
       "      <td>1.0</td>\n",
       "      <td>0.0</td>\n",
       "      <td>0.0</td>\n",
       "      <td>0.0</td>\n",
       "      <td>0.0</td>\n",
       "      <td>0.0</td>\n",
       "      <td>0.0</td>\n",
       "      <td>0.0</td>\n",
       "      <td>0.0</td>\n",
       "      <td>0.0</td>\n",
       "      <td>...</td>\n",
       "      <td>0.0</td>\n",
       "      <td>0.0</td>\n",
       "      <td>0.0</td>\n",
       "      <td>0.0</td>\n",
       "      <td>0.0</td>\n",
       "      <td>0.0</td>\n",
       "      <td>0.0</td>\n",
       "      <td>0.0</td>\n",
       "      <td>0.0</td>\n",
       "      <td>0.0</td>\n",
       "    </tr>\n",
       "  </tbody>\n",
       "</table>\n",
       "<p>5 rows × 3664 columns</p>\n",
       "</div>"
      ],
      "text/plain": [
       "   Fire_Cause_Arson  Fire_Cause_Campfire  Fire_Cause_Children  \\\n",
       "0               1.0                  0.0                  0.0   \n",
       "1               0.0                  1.0                  0.0   \n",
       "2               0.0                  0.0                  0.0   \n",
       "3               0.0                  0.0                  0.0   \n",
       "4               1.0                  0.0                  0.0   \n",
       "\n",
       "   Fire_Cause_Debris Burning  Fire_Cause_Equipment Use  Fire_Cause_Fireworks  \\\n",
       "0                        0.0                       0.0                   0.0   \n",
       "1                        0.0                       0.0                   0.0   \n",
       "2                        1.0                       0.0                   0.0   \n",
       "3                        0.0                       0.0                   0.0   \n",
       "4                        0.0                       0.0                   0.0   \n",
       "\n",
       "   Fire_Cause_Lightning  Fire_Cause_Miscellaneous  \\\n",
       "0                   0.0                       0.0   \n",
       "1                   0.0                       0.0   \n",
       "2                   0.0                       0.0   \n",
       "3                   0.0                       1.0   \n",
       "4                   0.0                       0.0   \n",
       "\n",
       "   Fire_Cause_Missing/Undefined  Fire_Cause_Powerline  ...  \\\n",
       "0                           0.0                   0.0  ...   \n",
       "1                           0.0                   0.0  ...   \n",
       "2                           0.0                   0.0  ...   \n",
       "3                           0.0                   0.0  ...   \n",
       "4                           0.0                   0.0  ...   \n",
       "\n",
       "   Discovery_Date_9/8/1999  Discovery_Date_9/8/2005  Discovery_Date_9/8/2006  \\\n",
       "0                      0.0                      0.0                      0.0   \n",
       "1                      0.0                      0.0                      0.0   \n",
       "2                      0.0                      0.0                      0.0   \n",
       "3                      0.0                      0.0                      0.0   \n",
       "4                      0.0                      0.0                      0.0   \n",
       "\n",
       "   Discovery_Date_9/8/2008  Discovery_Date_9/8/2013  Discovery_Date_9/9/2000  \\\n",
       "0                      0.0                      0.0                      0.0   \n",
       "1                      0.0                      0.0                      0.0   \n",
       "2                      0.0                      0.0                      0.0   \n",
       "3                      0.0                      0.0                      0.0   \n",
       "4                      0.0                      0.0                      0.0   \n",
       "\n",
       "   Discovery_Date_9/9/2005  Discovery_Date_9/9/2006  Discovery_Date_9/9/2010  \\\n",
       "0                      0.0                      0.0                      0.0   \n",
       "1                      0.0                      0.0                      0.0   \n",
       "2                      0.0                      0.0                      0.0   \n",
       "3                      0.0                      0.0                      0.0   \n",
       "4                      0.0                      0.0                      0.0   \n",
       "\n",
       "   Discovery_Date_9/9/2015  \n",
       "0                      0.0  \n",
       "1                      0.0  \n",
       "2                      0.0  \n",
       "3                      0.0  \n",
       "4                      0.0  \n",
       "\n",
       "[5 rows x 3664 columns]"
      ]
     },
     "execution_count": 5,
     "metadata": {},
     "output_type": "execute_result"
    }
   ],
   "source": [
    "# Generate our categorical variable list\n",
    "fire_cat = fire_clean_df.dtypes[fire_clean_df.dtypes == \"object\"].index.tolist()\n",
    "\n",
    "# Check the number of unique values in each column\n",
    "fire_clean_df[fire_cat].nunique()\n",
    "\n",
    "# Create a OneHotEncoder instance\n",
    "enc = OneHotEncoder(sparse=False)\n",
    "\n",
    "# Fit and transform the OneHotEncoder using the categorical variable list\n",
    "encode_df = pd.DataFrame(enc.fit_transform(fire_clean_df[fire_cat]))\n",
    "\n",
    "# Add the encoded variable names to the DataFrame\n",
    "encode_df.columns = enc.get_feature_names(fire_cat)\n",
    "encode_df.head()"
   ]
  },
  {
   "cell_type": "code",
   "execution_count": 6,
   "id": "6ca4ea3f",
   "metadata": {},
   "outputs": [
    {
     "data": {
      "text/html": [
       "<div>\n",
       "<style scoped>\n",
       "    .dataframe tbody tr th:only-of-type {\n",
       "        vertical-align: middle;\n",
       "    }\n",
       "\n",
       "    .dataframe tbody tr th {\n",
       "        vertical-align: top;\n",
       "    }\n",
       "\n",
       "    .dataframe thead th {\n",
       "        text-align: right;\n",
       "    }\n",
       "</style>\n",
       "<table border=\"1\" class=\"dataframe\">\n",
       "  <thead>\n",
       "    <tr style=\"text-align: right;\">\n",
       "      <th></th>\n",
       "      <th>Fire_Size</th>\n",
       "      <th>Latitude</th>\n",
       "      <th>Longitude</th>\n",
       "      <th>Fire_Cause_Arson</th>\n",
       "      <th>Fire_Cause_Campfire</th>\n",
       "      <th>Fire_Cause_Children</th>\n",
       "      <th>Fire_Cause_Debris Burning</th>\n",
       "      <th>Fire_Cause_Equipment Use</th>\n",
       "      <th>Fire_Cause_Fireworks</th>\n",
       "      <th>Fire_Cause_Lightning</th>\n",
       "      <th>...</th>\n",
       "      <th>Discovery_Date_9/8/1999</th>\n",
       "      <th>Discovery_Date_9/8/2005</th>\n",
       "      <th>Discovery_Date_9/8/2006</th>\n",
       "      <th>Discovery_Date_9/8/2008</th>\n",
       "      <th>Discovery_Date_9/8/2013</th>\n",
       "      <th>Discovery_Date_9/9/2000</th>\n",
       "      <th>Discovery_Date_9/9/2005</th>\n",
       "      <th>Discovery_Date_9/9/2006</th>\n",
       "      <th>Discovery_Date_9/9/2010</th>\n",
       "      <th>Discovery_Date_9/9/2015</th>\n",
       "    </tr>\n",
       "  </thead>\n",
       "  <tbody>\n",
       "    <tr>\n",
       "      <th>0</th>\n",
       "      <td>60.0</td>\n",
       "      <td>34.947800</td>\n",
       "      <td>-88.722500</td>\n",
       "      <td>1.0</td>\n",
       "      <td>0.0</td>\n",
       "      <td>0.0</td>\n",
       "      <td>0.0</td>\n",
       "      <td>0.0</td>\n",
       "      <td>0.0</td>\n",
       "      <td>0.0</td>\n",
       "      <td>...</td>\n",
       "      <td>0.0</td>\n",
       "      <td>0.0</td>\n",
       "      <td>0.0</td>\n",
       "      <td>0.0</td>\n",
       "      <td>0.0</td>\n",
       "      <td>0.0</td>\n",
       "      <td>0.0</td>\n",
       "      <td>0.0</td>\n",
       "      <td>0.0</td>\n",
       "      <td>0.0</td>\n",
       "    </tr>\n",
       "    <tr>\n",
       "      <th>1</th>\n",
       "      <td>1.0</td>\n",
       "      <td>30.904720</td>\n",
       "      <td>-93.557500</td>\n",
       "      <td>0.0</td>\n",
       "      <td>1.0</td>\n",
       "      <td>0.0</td>\n",
       "      <td>0.0</td>\n",
       "      <td>0.0</td>\n",
       "      <td>0.0</td>\n",
       "      <td>0.0</td>\n",
       "      <td>...</td>\n",
       "      <td>0.0</td>\n",
       "      <td>0.0</td>\n",
       "      <td>0.0</td>\n",
       "      <td>0.0</td>\n",
       "      <td>0.0</td>\n",
       "      <td>0.0</td>\n",
       "      <td>0.0</td>\n",
       "      <td>0.0</td>\n",
       "      <td>0.0</td>\n",
       "      <td>0.0</td>\n",
       "    </tr>\n",
       "    <tr>\n",
       "      <th>2</th>\n",
       "      <td>8.3</td>\n",
       "      <td>30.845339</td>\n",
       "      <td>-83.127987</td>\n",
       "      <td>0.0</td>\n",
       "      <td>0.0</td>\n",
       "      <td>0.0</td>\n",
       "      <td>1.0</td>\n",
       "      <td>0.0</td>\n",
       "      <td>0.0</td>\n",
       "      <td>0.0</td>\n",
       "      <td>...</td>\n",
       "      <td>0.0</td>\n",
       "      <td>0.0</td>\n",
       "      <td>0.0</td>\n",
       "      <td>0.0</td>\n",
       "      <td>0.0</td>\n",
       "      <td>0.0</td>\n",
       "      <td>0.0</td>\n",
       "      <td>0.0</td>\n",
       "      <td>0.0</td>\n",
       "      <td>0.0</td>\n",
       "    </tr>\n",
       "    <tr>\n",
       "      <th>3</th>\n",
       "      <td>1.0</td>\n",
       "      <td>42.731934</td>\n",
       "      <td>-77.905976</td>\n",
       "      <td>0.0</td>\n",
       "      <td>0.0</td>\n",
       "      <td>0.0</td>\n",
       "      <td>0.0</td>\n",
       "      <td>0.0</td>\n",
       "      <td>0.0</td>\n",
       "      <td>0.0</td>\n",
       "      <td>...</td>\n",
       "      <td>0.0</td>\n",
       "      <td>0.0</td>\n",
       "      <td>0.0</td>\n",
       "      <td>0.0</td>\n",
       "      <td>0.0</td>\n",
       "      <td>0.0</td>\n",
       "      <td>0.0</td>\n",
       "      <td>0.0</td>\n",
       "      <td>0.0</td>\n",
       "      <td>0.0</td>\n",
       "    </tr>\n",
       "    <tr>\n",
       "      <th>4</th>\n",
       "      <td>20.0</td>\n",
       "      <td>31.122200</td>\n",
       "      <td>-88.099400</td>\n",
       "      <td>1.0</td>\n",
       "      <td>0.0</td>\n",
       "      <td>0.0</td>\n",
       "      <td>0.0</td>\n",
       "      <td>0.0</td>\n",
       "      <td>0.0</td>\n",
       "      <td>0.0</td>\n",
       "      <td>...</td>\n",
       "      <td>0.0</td>\n",
       "      <td>0.0</td>\n",
       "      <td>0.0</td>\n",
       "      <td>0.0</td>\n",
       "      <td>0.0</td>\n",
       "      <td>0.0</td>\n",
       "      <td>0.0</td>\n",
       "      <td>0.0</td>\n",
       "      <td>0.0</td>\n",
       "      <td>0.0</td>\n",
       "    </tr>\n",
       "  </tbody>\n",
       "</table>\n",
       "<p>5 rows × 3667 columns</p>\n",
       "</div>"
      ],
      "text/plain": [
       "   Fire_Size   Latitude  Longitude  Fire_Cause_Arson  Fire_Cause_Campfire  \\\n",
       "0       60.0  34.947800 -88.722500               1.0                  0.0   \n",
       "1        1.0  30.904720 -93.557500               0.0                  1.0   \n",
       "2        8.3  30.845339 -83.127987               0.0                  0.0   \n",
       "3        1.0  42.731934 -77.905976               0.0                  0.0   \n",
       "4       20.0  31.122200 -88.099400               1.0                  0.0   \n",
       "\n",
       "   Fire_Cause_Children  Fire_Cause_Debris Burning  Fire_Cause_Equipment Use  \\\n",
       "0                  0.0                        0.0                       0.0   \n",
       "1                  0.0                        0.0                       0.0   \n",
       "2                  0.0                        1.0                       0.0   \n",
       "3                  0.0                        0.0                       0.0   \n",
       "4                  0.0                        0.0                       0.0   \n",
       "\n",
       "   Fire_Cause_Fireworks  Fire_Cause_Lightning  ...  Discovery_Date_9/8/1999  \\\n",
       "0                   0.0                   0.0  ...                      0.0   \n",
       "1                   0.0                   0.0  ...                      0.0   \n",
       "2                   0.0                   0.0  ...                      0.0   \n",
       "3                   0.0                   0.0  ...                      0.0   \n",
       "4                   0.0                   0.0  ...                      0.0   \n",
       "\n",
       "   Discovery_Date_9/8/2005  Discovery_Date_9/8/2006  Discovery_Date_9/8/2008  \\\n",
       "0                      0.0                      0.0                      0.0   \n",
       "1                      0.0                      0.0                      0.0   \n",
       "2                      0.0                      0.0                      0.0   \n",
       "3                      0.0                      0.0                      0.0   \n",
       "4                      0.0                      0.0                      0.0   \n",
       "\n",
       "   Discovery_Date_9/8/2013  Discovery_Date_9/9/2000  Discovery_Date_9/9/2005  \\\n",
       "0                      0.0                      0.0                      0.0   \n",
       "1                      0.0                      0.0                      0.0   \n",
       "2                      0.0                      0.0                      0.0   \n",
       "3                      0.0                      0.0                      0.0   \n",
       "4                      0.0                      0.0                      0.0   \n",
       "\n",
       "   Discovery_Date_9/9/2006  Discovery_Date_9/9/2010  Discovery_Date_9/9/2015  \n",
       "0                      0.0                      0.0                      0.0  \n",
       "1                      0.0                      0.0                      0.0  \n",
       "2                      0.0                      0.0                      0.0  \n",
       "3                      0.0                      0.0                      0.0  \n",
       "4                      0.0                      0.0                      0.0  \n",
       "\n",
       "[5 rows x 3667 columns]"
      ]
     },
     "execution_count": 6,
     "metadata": {},
     "output_type": "execute_result"
    }
   ],
   "source": [
    "# Merge one-hot encoded features and drop the originals\n",
    "x_df = fire_clean_df.merge(encode_df,left_index=True, right_index=True)\n",
    "x_df = x_df.drop(fire_cat,1)\n",
    "x_df.head()"
   ]
  },
  {
   "cell_type": "code",
   "execution_count": 7,
   "id": "aa7bff66",
   "metadata": {},
   "outputs": [],
   "source": [
    "# Remove target from features data\n",
    "import numpy as np\n",
    "y = np.reshape(fire_data_df.Fire_Size_Class.values,(-1,1))\n",
    "X = x_df\n",
    "# Split training/test datasets\n",
    "X_train, X_test, y_train, y_test = train_test_split(X, y, random_state=42)\n",
    "\n",
    "# Create a StandardScaler instance\n",
    "scaler = StandardScaler()\n",
    "\n",
    "# Fit the StandardScaler\n",
    "X_scaler = scaler.fit(X_train)\n",
    "\n",
    "# Scale the data\n",
    "X_train_scaled = X_scaler.transform(X_train)\n",
    "X_test_scaled = X_scaler.transform(X_test)"
   ]
  },
  {
   "cell_type": "code",
   "execution_count": 8,
   "id": "6b3aaaf2",
   "metadata": {},
   "outputs": [
    {
     "name": "stderr",
     "output_type": "stream",
     "text": [
      "C:\\Users\\Owner\\anaconda3\\envs\\mlenv\\lib\\site-packages\\ipykernel_launcher.py:5: DataConversionWarning: A column-vector y was passed when a 1d array was expected. Please change the shape of y to (n_samples,), for example using ravel().\n",
      "  \"\"\"\n"
     ]
    }
   ],
   "source": [
    "# Create a random forest Classifier.\n",
    "rf_model = RandomForestClassifier(n_estimators=100, random_state=2,max_depth=15)\n",
    "\n",
    "# Fitting the model\n",
    "rf_model = rf_model.fit(X_train_scaled, y_train)"
   ]
  },
  {
   "cell_type": "code",
   "execution_count": 9,
   "id": "445c3ad8",
   "metadata": {},
   "outputs": [
    {
     "data": {
      "text/plain": [
       "0.6760021965952773"
      ]
     },
     "execution_count": 9,
     "metadata": {},
     "output_type": "execute_result"
    }
   ],
   "source": [
    "# Evaluate the model with \"discovery date\"\n",
    "y_pred = rf_model.predict(X_test_scaled)\n",
    "from sklearn.metrics import accuracy_score\n",
    "rf_model.score(X_test_scaled, y_test)\n",
    "# score 0.6529379461834157"
   ]
  },
  {
   "cell_type": "code",
   "execution_count": 10,
   "id": "c98c0d8a",
   "metadata": {},
   "outputs": [
    {
     "name": "stderr",
     "output_type": "stream",
     "text": [
      "C:\\Users\\Owner\\anaconda3\\envs\\mlenv\\lib\\site-packages\\ipykernel_launcher.py:5: DataConversionWarning: A column-vector y was passed when a 1d array was expected. Please change the shape of y to (n_samples,), for example using ravel().\n",
      "  \"\"\"\n"
     ]
    }
   ],
   "source": [
    "# Create a random forest Classifier.\n",
    "rf_model = RandomForestClassifier(n_estimators=100, random_state=2,max_depth=15)\n",
    "\n",
    "# Fitting the model\n",
    "rf_model = rf_model.fit(X_train_scaled, y_train)"
   ]
  },
  {
   "cell_type": "code",
   "execution_count": 11,
   "id": "7db28e06",
   "metadata": {},
   "outputs": [
    {
     "data": {
      "text/plain": [
       "0.6760021965952773"
      ]
     },
     "execution_count": 11,
     "metadata": {},
     "output_type": "execute_result"
    }
   ],
   "source": [
    "# Evaluate the model with no weather\n",
    "y_pred = rf_model.predict(X_test_scaled)\n",
    "from sklearn.metrics import accuracy_score\n",
    "rf_model.score(X_test_scaled, y_test)\n",
    "#score 0.6584294343767161"
   ]
  },
  {
   "cell_type": "code",
   "execution_count": 12,
   "id": "bc5e456f",
   "metadata": {},
   "outputs": [
    {
     "name": "stderr",
     "output_type": "stream",
     "text": [
      "C:\\Users\\Owner\\anaconda3\\envs\\mlenv\\lib\\site-packages\\ipykernel_launcher.py:5: DataConversionWarning: A column-vector y was passed when a 1d array was expected. Please change the shape of y to (n_samples,), for example using ravel().\n",
      "  \"\"\"\n"
     ]
    }
   ],
   "source": [
    "# Create a random forest Classifier.\n",
    "rf_model = RandomForestClassifier(n_estimators=100, random_state=2,max_depth=15)\n",
    "\n",
    "# Fitting the model\n",
    "rf_model = rf_model.fit(X_train_scaled, y_train)"
   ]
  },
  {
   "cell_type": "code",
   "execution_count": 13,
   "id": "a6b2e89c",
   "metadata": {},
   "outputs": [
    {
     "data": {
      "text/plain": [
       "0.6760021965952773"
      ]
     },
     "execution_count": 13,
     "metadata": {},
     "output_type": "execute_result"
    }
   ],
   "source": [
    "# Evaluate the model with fir size \n",
    "y_pred = rf_model.predict(X_test_scaled)\n",
    "from sklearn.metrics import accuracy_score\n",
    "rf_model.score(X_test_scaled, y_test)\n",
    "#score 0.6694124107633168"
   ]
  },
  {
   "cell_type": "code",
   "execution_count": 14,
   "id": "b32c00d3",
   "metadata": {},
   "outputs": [
    {
     "name": "stderr",
     "output_type": "stream",
     "text": [
      "C:\\Users\\Owner\\anaconda3\\envs\\mlenv\\lib\\site-packages\\ipykernel_launcher.py:5: DataConversionWarning: A column-vector y was passed when a 1d array was expected. Please change the shape of y to (n_samples,), for example using ravel().\n",
      "  \"\"\"\n"
     ]
    }
   ],
   "source": [
    "# Create a random forest Classifier.\n",
    "rf_model = RandomForestClassifier(n_estimators=100, random_state=2,max_depth=35)\n",
    "\n",
    "# Fitting the model\n",
    "rf_model = rf_model.fit(X_train_scaled, y_train)"
   ]
  },
  {
   "cell_type": "code",
   "execution_count": 15,
   "id": "00612a1f",
   "metadata": {},
   "outputs": [
    {
     "data": {
      "text/plain": [
       "0.9110378912685337"
      ]
     },
     "execution_count": 15,
     "metadata": {},
     "output_type": "execute_result"
    }
   ],
   "source": [
    "# Evaluate the model with Fire_Cause,Fire_Size,Latitude,Longitude,State,Discovery_Date\n",
    "y_pred = rf_model.predict(X_test_scaled)\n",
    "from sklearn.metrics import accuracy_score\n",
    "rf_model.score(X_test_scaled, y_test)\n",
    "#score  0.9110378912685337 max_depth=35"
   ]
  },
  {
   "cell_type": "code",
   "execution_count": 16,
   "id": "3bdc2f87",
   "metadata": {},
   "outputs": [
    {
     "name": "stderr",
     "output_type": "stream",
     "text": [
      "C:\\Users\\Owner\\anaconda3\\envs\\mlenv\\lib\\site-packages\\ipykernel_launcher.py:5: DataConversionWarning: A column-vector y was passed when a 1d array was expected. Please change the shape of y to (n_samples,), for example using ravel().\n",
      "  \"\"\"\n"
     ]
    }
   ],
   "source": [
    "# Create a random forest Classifier.\n",
    "rf_model = RandomForestClassifier(n_estimators=100, random_state=2,max_depth=20)\n",
    "\n",
    "# Fitting the model\n",
    "rf_model = rf_model.fit(X_train_scaled, y_train)"
   ]
  },
  {
   "cell_type": "code",
   "execution_count": 17,
   "id": "797b8621",
   "metadata": {},
   "outputs": [
    {
     "data": {
      "text/plain": [
       "0.6891817682591982"
      ]
     },
     "execution_count": 17,
     "metadata": {},
     "output_type": "execute_result"
    }
   ],
   "source": [
    "# Evaluate the model without \"Vegetation\"\n",
    "y_pred = rf_model.predict(X_test_scaled)\n",
    "from sklearn.metrics import accuracy_score\n",
    "rf_model.score(X_test_scaled, y_test)\n",
    "#score  0.6809445359692476 max_depth=20"
   ]
  },
  {
   "cell_type": "code",
   "execution_count": 18,
   "id": "c2b24bd0",
   "metadata": {},
   "outputs": [
    {
     "name": "stderr",
     "output_type": "stream",
     "text": [
      "C:\\Users\\Owner\\anaconda3\\envs\\mlenv\\lib\\site-packages\\ipykernel_launcher.py:5: DataConversionWarning: A column-vector y was passed when a 1d array was expected. Please change the shape of y to (n_samples,), for example using ravel().\n",
      "  \"\"\"\n"
     ]
    }
   ],
   "source": [
    "# Create a random forest Classifier.\n",
    "rf_model = RandomForestClassifier(n_estimators=50, random_state=2,max_depth=15)\n",
    "\n",
    "# Fitting the model\n",
    "rf_model = rf_model.fit(X_train_scaled, y_train)"
   ]
  },
  {
   "cell_type": "code",
   "execution_count": 19,
   "id": "36e529ce",
   "metadata": {},
   "outputs": [
    {
     "data": {
      "text/plain": [
       "0.6699615595826469"
      ]
     },
     "execution_count": 19,
     "metadata": {},
     "output_type": "execute_result"
    }
   ],
   "source": [
    "# Evaluate the model without \"Vegetation\"\n",
    "y_pred = rf_model.predict(X_test_scaled)\n",
    "from sklearn.metrics import accuracy_score\n",
    "rf_model.score(X_test_scaled, y_test)\n",
    "#score  0.6809445359692476 max_depth=15 n_estimators=50"
   ]
  },
  {
   "cell_type": "code",
   "execution_count": 20,
   "id": "331f8a71",
   "metadata": {},
   "outputs": [
    {
     "name": "stderr",
     "output_type": "stream",
     "text": [
      "C:\\Users\\Owner\\anaconda3\\envs\\mlenv\\lib\\site-packages\\ipykernel_launcher.py:5: DataConversionWarning: A column-vector y was passed when a 1d array was expected. Please change the shape of y to (n_samples,), for example using ravel().\n",
      "  \"\"\"\n"
     ]
    }
   ],
   "source": [
    "# Create a random forest Classifier.\n",
    "rf_model = RandomForestClassifier(n_estimators=150, random_state=2,max_depth=15)\n",
    "\n",
    "# Fitting the model\n",
    "rf_model = rf_model.fit(X_train_scaled, y_train)"
   ]
  },
  {
   "cell_type": "code",
   "execution_count": 21,
   "id": "460a1a28",
   "metadata": {},
   "outputs": [
    {
     "data": {
      "text/plain": [
       "0.6754530477759473"
      ]
     },
     "execution_count": 21,
     "metadata": {},
     "output_type": "execute_result"
    }
   ],
   "source": [
    "# Evaluate the model without \"Vegetation\"\n",
    "y_pred = rf_model.predict(X_test_scaled)\n",
    "from sklearn.metrics import accuracy_score\n",
    "rf_model.score(X_test_scaled, y_test)\n",
    "#score  0.6831411312465678 max_depth=15 n_estimators=150"
   ]
  },
  {
   "cell_type": "code",
   "execution_count": 22,
   "id": "6e976b24",
   "metadata": {},
   "outputs": [
    {
     "name": "stderr",
     "output_type": "stream",
     "text": [
      "C:\\Users\\Owner\\anaconda3\\envs\\mlenv\\lib\\site-packages\\ipykernel_launcher.py:5: DataConversionWarning: A column-vector y was passed when a 1d array was expected. Please change the shape of y to (n_samples,), for example using ravel().\n",
      "  \"\"\"\n"
     ]
    }
   ],
   "source": [
    "# Create a random forest Classifier.\n",
    "rf_model = RandomForestClassifier(n_estimators=500, random_state=2,max_depth=15)\n",
    "\n",
    "# Fitting the model\n",
    "rf_model = rf_model.fit(X_train_scaled, y_train)"
   ]
  },
  {
   "cell_type": "code",
   "execution_count": 23,
   "id": "3c8e5572",
   "metadata": {},
   "outputs": [
    {
     "data": {
      "text/plain": [
       "0.6721581548599671"
      ]
     },
     "execution_count": 23,
     "metadata": {},
     "output_type": "execute_result"
    }
   ],
   "source": [
    "# Evaluate the model without \"Vegetation\"\n",
    "y_pred = rf_model.predict(X_test_scaled)\n",
    "from sklearn.metrics import accuracy_score\n",
    "rf_model.score(X_test_scaled, y_test)\n",
    "#score  0.6842394288852279 max_depth=15 n_estimators=500"
   ]
  },
  {
   "cell_type": "code",
   "execution_count": 24,
   "id": "7f66d00c",
   "metadata": {},
   "outputs": [
    {
     "name": "stderr",
     "output_type": "stream",
     "text": [
      "C:\\Users\\Owner\\anaconda3\\envs\\mlenv\\lib\\site-packages\\ipykernel_launcher.py:5: DataConversionWarning: A column-vector y was passed when a 1d array was expected. Please change the shape of y to (n_samples,), for example using ravel().\n",
      "  \"\"\"\n"
     ]
    }
   ],
   "source": [
    "# Create a random forest Classifier.\n",
    "rf_model = RandomForestClassifier(n_estimators=600, random_state=1,max_depth=15)\n",
    "\n",
    "# Fitting the model\n",
    "rf_model = rf_model.fit(X_train_scaled, y_train)"
   ]
  },
  {
   "cell_type": "code",
   "execution_count": 25,
   "id": "6a222e13",
   "metadata": {},
   "outputs": [
    {
     "data": {
      "text/plain": [
       "0.6721581548599671"
      ]
     },
     "execution_count": 25,
     "metadata": {},
     "output_type": "execute_result"
    }
   ],
   "source": [
    "# Evaluate the model without \"Vegetation\"\n",
    "y_pred = rf_model.predict(X_test_scaled)\n",
    "from sklearn.metrics import accuracy_score\n",
    "rf_model.score(X_test_scaled, y_test)\n",
    "#score  0.6842394288852279 max_depth=15 n_estimators=500,min_samples_split=5"
   ]
  },
  {
   "cell_type": "code",
   "execution_count": 26,
   "id": "fcce614d",
   "metadata": {},
   "outputs": [
    {
     "name": "stderr",
     "output_type": "stream",
     "text": [
      "C:\\Users\\Owner\\anaconda3\\envs\\mlenv\\lib\\site-packages\\sklearn\\utils\\validation.py:63: DataConversionWarning: A column-vector y was passed when a 1d array was expected. Please change the shape of y to (n_samples, ), for example using ravel().\n",
      "  return f(*args, **kwargs)\n"
     ]
    },
    {
     "name": "stdout",
     "output_type": "stream",
     "text": [
      "Learning rate:  0.05\n",
      "Accuracy score (training): 0.664\n",
      "Accuracy score (validation): 0.651\n"
     ]
    },
    {
     "name": "stderr",
     "output_type": "stream",
     "text": [
      "C:\\Users\\Owner\\anaconda3\\envs\\mlenv\\lib\\site-packages\\sklearn\\utils\\validation.py:63: DataConversionWarning: A column-vector y was passed when a 1d array was expected. Please change the shape of y to (n_samples, ), for example using ravel().\n",
      "  return f(*args, **kwargs)\n"
     ]
    },
    {
     "name": "stdout",
     "output_type": "stream",
     "text": [
      "Learning rate:  0.1\n",
      "Accuracy score (training): 0.665\n",
      "Accuracy score (validation): 0.651\n"
     ]
    },
    {
     "name": "stderr",
     "output_type": "stream",
     "text": [
      "C:\\Users\\Owner\\anaconda3\\envs\\mlenv\\lib\\site-packages\\sklearn\\utils\\validation.py:63: DataConversionWarning: A column-vector y was passed when a 1d array was expected. Please change the shape of y to (n_samples, ), for example using ravel().\n",
      "  return f(*args, **kwargs)\n"
     ]
    },
    {
     "name": "stdout",
     "output_type": "stream",
     "text": [
      "Learning rate:  0.25\n",
      "Accuracy score (training): 0.671\n",
      "Accuracy score (validation): 0.652\n"
     ]
    },
    {
     "name": "stderr",
     "output_type": "stream",
     "text": [
      "C:\\Users\\Owner\\anaconda3\\envs\\mlenv\\lib\\site-packages\\sklearn\\utils\\validation.py:63: DataConversionWarning: A column-vector y was passed when a 1d array was expected. Please change the shape of y to (n_samples, ), for example using ravel().\n",
      "  return f(*args, **kwargs)\n"
     ]
    },
    {
     "name": "stdout",
     "output_type": "stream",
     "text": [
      "Learning rate:  0.5\n",
      "Accuracy score (training): 0.681\n",
      "Accuracy score (validation): 0.650\n"
     ]
    },
    {
     "name": "stderr",
     "output_type": "stream",
     "text": [
      "C:\\Users\\Owner\\anaconda3\\envs\\mlenv\\lib\\site-packages\\sklearn\\utils\\validation.py:63: DataConversionWarning: A column-vector y was passed when a 1d array was expected. Please change the shape of y to (n_samples, ), for example using ravel().\n",
      "  return f(*args, **kwargs)\n"
     ]
    },
    {
     "name": "stdout",
     "output_type": "stream",
     "text": [
      "Learning rate:  0.75\n",
      "Accuracy score (training): 0.685\n",
      "Accuracy score (validation): 0.647\n"
     ]
    },
    {
     "name": "stderr",
     "output_type": "stream",
     "text": [
      "C:\\Users\\Owner\\anaconda3\\envs\\mlenv\\lib\\site-packages\\sklearn\\utils\\validation.py:63: DataConversionWarning: A column-vector y was passed when a 1d array was expected. Please change the shape of y to (n_samples, ), for example using ravel().\n",
      "  return f(*args, **kwargs)\n"
     ]
    },
    {
     "name": "stdout",
     "output_type": "stream",
     "text": [
      "Learning rate:  1\n",
      "Accuracy score (training): 0.683\n",
      "Accuracy score (validation): 0.646\n"
     ]
    }
   ],
   "source": [
    "from sklearn.ensemble import GradientBoostingClassifier\n",
    "learning_rates = [0.05, 0.1, 0.25, 0.5, 0.75, 1]\n",
    "for learning_rate in learning_rates:\n",
    "    classifier = GradientBoostingClassifier(n_estimators=20,\n",
    "    learning_rate=learning_rate,\n",
    "    max_features=5,\n",
    "    max_depth=3,\n",
    "    random_state=0)\n",
    "    classifier.fit(X_train_scaled, y_train)\n",
    "    print(\"Learning rate: \", learning_rate)\n",
    "    print(\"Accuracy score (training): {0:.3f}\".format(classifier.score(X_train_scaled,y_train)))\n",
    "    print(\"Accuracy score (validation): {0:.3f}\".format(classifier.score(X_test_scaled,y_test)))"
   ]
  },
  {
   "cell_type": "code",
   "execution_count": 27,
   "id": "751bc421",
   "metadata": {},
   "outputs": [
    {
     "name": "stderr",
     "output_type": "stream",
     "text": [
      "C:\\Users\\Owner\\anaconda3\\envs\\mlenv\\lib\\site-packages\\sklearn\\utils\\validation.py:63: DataConversionWarning: A column-vector y was passed when a 1d array was expected. Please change the shape of y to (n_samples, ), for example using ravel().\n",
      "  return f(*args, **kwargs)\n"
     ]
    },
    {
     "name": "stdout",
     "output_type": "stream",
     "text": [
      "0.06644700713893466\n"
     ]
    },
    {
     "name": "stderr",
     "output_type": "stream",
     "text": [
      "C:\\Users\\Owner\\anaconda3\\envs\\mlenv\\lib\\site-packages\\sklearn\\linear_model\\_logistic.py:765: ConvergenceWarning: lbfgs failed to converge (status=1):\n",
      "STOP: TOTAL NO. of ITERATIONS REACHED LIMIT.\n",
      "\n",
      "Increase the number of iterations (max_iter) or scale the data as shown in:\n",
      "    https://scikit-learn.org/stable/modules/preprocessing.html\n",
      "Please also refer to the documentation for alternative solver options:\n",
      "    https://scikit-learn.org/stable/modules/linear_model.html#logistic-regression\n",
      "  extra_warning_msg=_LOGISTIC_SOLVER_CONVERGENCE_MSG)\n"
     ]
    }
   ],
   "source": [
    "from sklearn.linear_model import LogisticRegression\n",
    "classifier = LogisticRegression(solver='lbfgs',max_iter=200,random_state=1)\n",
    "classifier.fit(X_train_scaled, y_train)\n",
    "y_pred = classifier.predict(X_test)\n",
    "from sklearn.metrics import accuracy_score\n",
    "print(accuracy_score(y_test, y_pred))"
   ]
  },
  {
   "cell_type": "code",
   "execution_count": null,
   "id": "576beafe",
   "metadata": {},
   "outputs": [],
   "source": []
  },
  {
   "cell_type": "code",
   "execution_count": null,
   "id": "300040c6",
   "metadata": {},
   "outputs": [],
   "source": []
  },
  {
   "cell_type": "code",
   "execution_count": null,
   "id": "bc6328b6",
   "metadata": {},
   "outputs": [],
   "source": []
  },
  {
   "cell_type": "code",
   "execution_count": null,
   "id": "b390ece9",
   "metadata": {},
   "outputs": [],
   "source": []
  },
  {
   "cell_type": "code",
   "execution_count": null,
   "id": "e951865d",
   "metadata": {},
   "outputs": [],
   "source": []
  }
 ],
 "metadata": {
  "kernelspec": {
   "display_name": "mlenv",
   "language": "python",
   "name": "mlenv"
  },
  "language_info": {
   "codemirror_mode": {
    "name": "ipython",
    "version": 3
   },
   "file_extension": ".py",
   "mimetype": "text/x-python",
   "name": "python",
   "nbconvert_exporter": "python",
   "pygments_lexer": "ipython3",
   "version": "3.7.10"
  }
 },
 "nbformat": 4,
 "nbformat_minor": 5
}
