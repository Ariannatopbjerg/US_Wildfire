{
 "cells": [
  {
   "cell_type": "code",
   "execution_count": 1,
   "id": "075a12bb",
   "metadata": {},
   "outputs": [],
   "source": [
    "# Import our dependencies\n",
    "from sklearn.model_selection import train_test_split\n",
    "from sklearn.preprocessing import StandardScaler\n",
    "from sklearn.ensemble import RandomForestRegressor\n",
    "from sklearn.ensemble import RandomForestClassifier\n",
    "from sklearn.metrics import accuracy_score\n",
    "from sklearn.preprocessing import OneHotEncoder\n",
    "from sklearn.svm import SVC\n",
    "import pandas as pd\n",
    "import tensorflow as tf"
   ]
  },
  {
   "cell_type": "code",
   "execution_count": 2,
   "id": "3754d177",
   "metadata": {},
   "outputs": [
    {
     "data": {
      "text/html": [
       "<div>\n",
       "<style scoped>\n",
       "    .dataframe tbody tr th:only-of-type {\n",
       "        vertical-align: middle;\n",
       "    }\n",
       "\n",
       "    .dataframe tbody tr th {\n",
       "        vertical-align: top;\n",
       "    }\n",
       "\n",
       "    .dataframe thead th {\n",
       "        text-align: right;\n",
       "    }\n",
       "</style>\n",
       "<table border=\"1\" class=\"dataframe\">\n",
       "  <thead>\n",
       "    <tr style=\"text-align: right;\">\n",
       "      <th></th>\n",
       "      <th>Fire_Size</th>\n",
       "      <th>Fire_Size_Class</th>\n",
       "      <th>Fire_Cause</th>\n",
       "      <th>Latitude</th>\n",
       "      <th>Longitude</th>\n",
       "      <th>State</th>\n",
       "      <th>Discovery_Month</th>\n",
       "      <th>Discovery_Date</th>\n",
       "      <th>Discovery_Year</th>\n",
       "      <th>Vegetation</th>\n",
       "      <th>...</th>\n",
       "      <th>Wind_Pre_7</th>\n",
       "      <th>Wind_Present</th>\n",
       "      <th>Hum_Pre_30</th>\n",
       "      <th>Hum_Pre_15</th>\n",
       "      <th>Hum_Pre_7</th>\n",
       "      <th>Hum_Present</th>\n",
       "      <th>Prec_Pre_30</th>\n",
       "      <th>Prec_Pre_15</th>\n",
       "      <th>Prec_Pre_7</th>\n",
       "      <th>Prec_Present</th>\n",
       "    </tr>\n",
       "  </thead>\n",
       "  <tbody>\n",
       "    <tr>\n",
       "      <th>0</th>\n",
       "      <td>60.0</td>\n",
       "      <td>C</td>\n",
       "      <td>Arson</td>\n",
       "      <td>34.947800</td>\n",
       "      <td>-88.722500</td>\n",
       "      <td>MS</td>\n",
       "      <td>Feb</td>\n",
       "      <td>1/30/2004</td>\n",
       "      <td>2004</td>\n",
       "      <td>16</td>\n",
       "      <td>...</td>\n",
       "      <td>2.695833</td>\n",
       "      <td>3.369050</td>\n",
       "      <td>75.531629</td>\n",
       "      <td>75.868613</td>\n",
       "      <td>76.812834</td>\n",
       "      <td>65.063800</td>\n",
       "      <td>168.8</td>\n",
       "      <td>42.2</td>\n",
       "      <td>18.1</td>\n",
       "      <td>124.5</td>\n",
       "    </tr>\n",
       "    <tr>\n",
       "      <th>1</th>\n",
       "      <td>1.0</td>\n",
       "      <td>B</td>\n",
       "      <td>Campfire</td>\n",
       "      <td>30.904720</td>\n",
       "      <td>-93.557500</td>\n",
       "      <td>TX</td>\n",
       "      <td>Nov</td>\n",
       "      <td>10/13/2005</td>\n",
       "      <td>2005</td>\n",
       "      <td>12</td>\n",
       "      <td>...</td>\n",
       "      <td>1.424783</td>\n",
       "      <td>2.148857</td>\n",
       "      <td>72.899478</td>\n",
       "      <td>75.061381</td>\n",
       "      <td>77.924623</td>\n",
       "      <td>70.732911</td>\n",
       "      <td>28.4</td>\n",
       "      <td>27.5</td>\n",
       "      <td>1.2</td>\n",
       "      <td>55.4</td>\n",
       "    </tr>\n",
       "    <tr>\n",
       "      <th>2</th>\n",
       "      <td>8.3</td>\n",
       "      <td>B</td>\n",
       "      <td>Debris Burning</td>\n",
       "      <td>30.845339</td>\n",
       "      <td>-83.127987</td>\n",
       "      <td>GA</td>\n",
       "      <td>Mar</td>\n",
       "      <td>2/4/2010</td>\n",
       "      <td>2010</td>\n",
       "      <td>12</td>\n",
       "      <td>...</td>\n",
       "      <td>2.224500</td>\n",
       "      <td>1.750701</td>\n",
       "      <td>71.260870</td>\n",
       "      <td>69.281030</td>\n",
       "      <td>64.797980</td>\n",
       "      <td>73.072072</td>\n",
       "      <td>76.3</td>\n",
       "      <td>26.2</td>\n",
       "      <td>8.4</td>\n",
       "      <td>40.5</td>\n",
       "    </tr>\n",
       "    <tr>\n",
       "      <th>3</th>\n",
       "      <td>1.0</td>\n",
       "      <td>B</td>\n",
       "      <td>Miscellaneous</td>\n",
       "      <td>42.731934</td>\n",
       "      <td>-77.905976</td>\n",
       "      <td>NY</td>\n",
       "      <td>Apr</td>\n",
       "      <td>3/4/2010</td>\n",
       "      <td>2010</td>\n",
       "      <td>4</td>\n",
       "      <td>...</td>\n",
       "      <td>3.744928</td>\n",
       "      <td>2.872771</td>\n",
       "      <td>68.640553</td>\n",
       "      <td>69.556263</td>\n",
       "      <td>63.966184</td>\n",
       "      <td>59.956798</td>\n",
       "      <td>52.9</td>\n",
       "      <td>38.4</td>\n",
       "      <td>2.3</td>\n",
       "      <td>30.5</td>\n",
       "    </tr>\n",
       "    <tr>\n",
       "      <th>4</th>\n",
       "      <td>20.0</td>\n",
       "      <td>C</td>\n",
       "      <td>Arson</td>\n",
       "      <td>31.122200</td>\n",
       "      <td>-88.099400</td>\n",
       "      <td>AL</td>\n",
       "      <td>Jun</td>\n",
       "      <td>5/5/2000</td>\n",
       "      <td>2000</td>\n",
       "      <td>12</td>\n",
       "      <td>...</td>\n",
       "      <td>2.899537</td>\n",
       "      <td>2.623313</td>\n",
       "      <td>73.717979</td>\n",
       "      <td>74.603325</td>\n",
       "      <td>69.440594</td>\n",
       "      <td>77.471227</td>\n",
       "      <td>93.7</td>\n",
       "      <td>85.3</td>\n",
       "      <td>41.4</td>\n",
       "      <td>154.3</td>\n",
       "    </tr>\n",
       "    <tr>\n",
       "      <th>...</th>\n",
       "      <td>...</td>\n",
       "      <td>...</td>\n",
       "      <td>...</td>\n",
       "      <td>...</td>\n",
       "      <td>...</td>\n",
       "      <td>...</td>\n",
       "      <td>...</td>\n",
       "      <td>...</td>\n",
       "      <td>...</td>\n",
       "      <td>...</td>\n",
       "      <td>...</td>\n",
       "      <td>...</td>\n",
       "      <td>...</td>\n",
       "      <td>...</td>\n",
       "      <td>...</td>\n",
       "      <td>...</td>\n",
       "      <td>...</td>\n",
       "      <td>...</td>\n",
       "      <td>...</td>\n",
       "      <td>...</td>\n",
       "      <td>...</td>\n",
       "    </tr>\n",
       "    <tr>\n",
       "      <th>7279</th>\n",
       "      <td>3082.0</td>\n",
       "      <td>F</td>\n",
       "      <td>Lightning</td>\n",
       "      <td>48.383600</td>\n",
       "      <td>-117.891900</td>\n",
       "      <td>WA</td>\n",
       "      <td>Aug</td>\n",
       "      <td>7/15/2015</td>\n",
       "      <td>2015</td>\n",
       "      <td>15</td>\n",
       "      <td>...</td>\n",
       "      <td>2.026590</td>\n",
       "      <td>2.918241</td>\n",
       "      <td>37.301713</td>\n",
       "      <td>36.085561</td>\n",
       "      <td>40.526012</td>\n",
       "      <td>49.762009</td>\n",
       "      <td>2.0</td>\n",
       "      <td>2.0</td>\n",
       "      <td>2.0</td>\n",
       "      <td>9.2</td>\n",
       "    </tr>\n",
       "    <tr>\n",
       "      <th>7280</th>\n",
       "      <td>4800.0</td>\n",
       "      <td>F</td>\n",
       "      <td>Equipment Use</td>\n",
       "      <td>45.135700</td>\n",
       "      <td>-99.908700</td>\n",
       "      <td>SD</td>\n",
       "      <td>Apr</td>\n",
       "      <td>3/2/2015</td>\n",
       "      <td>2015</td>\n",
       "      <td>9</td>\n",
       "      <td>...</td>\n",
       "      <td>6.023590</td>\n",
       "      <td>5.456159</td>\n",
       "      <td>58.984906</td>\n",
       "      <td>61.466667</td>\n",
       "      <td>60.994872</td>\n",
       "      <td>56.239420</td>\n",
       "      <td>4.4</td>\n",
       "      <td>4.4</td>\n",
       "      <td>4.1</td>\n",
       "      <td>12.2</td>\n",
       "    </tr>\n",
       "    <tr>\n",
       "      <th>7281</th>\n",
       "      <td>5100.0</td>\n",
       "      <td>G</td>\n",
       "      <td>Equipment Use</td>\n",
       "      <td>45.069700</td>\n",
       "      <td>-99.821100</td>\n",
       "      <td>SD</td>\n",
       "      <td>Apr</td>\n",
       "      <td>3/3/2015</td>\n",
       "      <td>2015</td>\n",
       "      <td>9</td>\n",
       "      <td>...</td>\n",
       "      <td>5.436216</td>\n",
       "      <td>5.316949</td>\n",
       "      <td>57.976101</td>\n",
       "      <td>59.909524</td>\n",
       "      <td>58.129730</td>\n",
       "      <td>56.989091</td>\n",
       "      <td>4.4</td>\n",
       "      <td>4.4</td>\n",
       "      <td>4.1</td>\n",
       "      <td>12.7</td>\n",
       "    </tr>\n",
       "    <tr>\n",
       "      <th>7282</th>\n",
       "      <td>17823.0</td>\n",
       "      <td>G</td>\n",
       "      <td>Campfire</td>\n",
       "      <td>44.834600</td>\n",
       "      <td>-117.220600</td>\n",
       "      <td>OR</td>\n",
       "      <td>Sep</td>\n",
       "      <td>8/13/2015</td>\n",
       "      <td>2015</td>\n",
       "      <td>15</td>\n",
       "      <td>...</td>\n",
       "      <td>1.835821</td>\n",
       "      <td>2.292956</td>\n",
       "      <td>55.009259</td>\n",
       "      <td>62.368700</td>\n",
       "      <td>67.266304</td>\n",
       "      <td>58.917679</td>\n",
       "      <td>10.4</td>\n",
       "      <td>10.4</td>\n",
       "      <td>9.4</td>\n",
       "      <td>8.6</td>\n",
       "    </tr>\n",
       "    <tr>\n",
       "      <th>7283</th>\n",
       "      <td>4336.0</td>\n",
       "      <td>F</td>\n",
       "      <td>Lightning</td>\n",
       "      <td>34.316000</td>\n",
       "      <td>-112.268300</td>\n",
       "      <td>AZ</td>\n",
       "      <td>Aug</td>\n",
       "      <td>7/3/2015</td>\n",
       "      <td>2015</td>\n",
       "      <td>16</td>\n",
       "      <td>...</td>\n",
       "      <td>2.924852</td>\n",
       "      <td>3.193614</td>\n",
       "      <td>45.053836</td>\n",
       "      <td>46.349030</td>\n",
       "      <td>40.786982</td>\n",
       "      <td>49.818887</td>\n",
       "      <td>86.9</td>\n",
       "      <td>78.8</td>\n",
       "      <td>6.9</td>\n",
       "      <td>41.0</td>\n",
       "    </tr>\n",
       "  </tbody>\n",
       "</table>\n",
       "<p>7284 rows × 27 columns</p>\n",
       "</div>"
      ],
      "text/plain": [
       "      Fire_Size Fire_Size_Class      Fire_Cause   Latitude   Longitude State  \\\n",
       "0          60.0               C           Arson  34.947800  -88.722500    MS   \n",
       "1           1.0               B        Campfire  30.904720  -93.557500    TX   \n",
       "2           8.3               B  Debris Burning  30.845339  -83.127987    GA   \n",
       "3           1.0               B   Miscellaneous  42.731934  -77.905976    NY   \n",
       "4          20.0               C           Arson  31.122200  -88.099400    AL   \n",
       "...         ...             ...             ...        ...         ...   ...   \n",
       "7279     3082.0               F       Lightning  48.383600 -117.891900    WA   \n",
       "7280     4800.0               F   Equipment Use  45.135700  -99.908700    SD   \n",
       "7281     5100.0               G   Equipment Use  45.069700  -99.821100    SD   \n",
       "7282    17823.0               G        Campfire  44.834600 -117.220600    OR   \n",
       "7283     4336.0               F       Lightning  34.316000 -112.268300    AZ   \n",
       "\n",
       "     Discovery_Month Discovery_Date  Discovery_Year  Vegetation  ...  \\\n",
       "0                Feb      1/30/2004            2004          16  ...   \n",
       "1                Nov     10/13/2005            2005          12  ...   \n",
       "2                Mar       2/4/2010            2010          12  ...   \n",
       "3                Apr       3/4/2010            2010           4  ...   \n",
       "4                Jun       5/5/2000            2000          12  ...   \n",
       "...              ...            ...             ...         ...  ...   \n",
       "7279             Aug      7/15/2015            2015          15  ...   \n",
       "7280             Apr       3/2/2015            2015           9  ...   \n",
       "7281             Apr       3/3/2015            2015           9  ...   \n",
       "7282             Sep      8/13/2015            2015          15  ...   \n",
       "7283             Aug       7/3/2015            2015          16  ...   \n",
       "\n",
       "      Wind_Pre_7  Wind_Present  Hum_Pre_30  Hum_Pre_15  Hum_Pre_7  \\\n",
       "0       2.695833      3.369050   75.531629   75.868613  76.812834   \n",
       "1       1.424783      2.148857   72.899478   75.061381  77.924623   \n",
       "2       2.224500      1.750701   71.260870   69.281030  64.797980   \n",
       "3       3.744928      2.872771   68.640553   69.556263  63.966184   \n",
       "4       2.899537      2.623313   73.717979   74.603325  69.440594   \n",
       "...          ...           ...         ...         ...        ...   \n",
       "7279    2.026590      2.918241   37.301713   36.085561  40.526012   \n",
       "7280    6.023590      5.456159   58.984906   61.466667  60.994872   \n",
       "7281    5.436216      5.316949   57.976101   59.909524  58.129730   \n",
       "7282    1.835821      2.292956   55.009259   62.368700  67.266304   \n",
       "7283    2.924852      3.193614   45.053836   46.349030  40.786982   \n",
       "\n",
       "      Hum_Present  Prec_Pre_30  Prec_Pre_15  Prec_Pre_7  Prec_Present  \n",
       "0       65.063800        168.8         42.2        18.1         124.5  \n",
       "1       70.732911         28.4         27.5         1.2          55.4  \n",
       "2       73.072072         76.3         26.2         8.4          40.5  \n",
       "3       59.956798         52.9         38.4         2.3          30.5  \n",
       "4       77.471227         93.7         85.3        41.4         154.3  \n",
       "...           ...          ...          ...         ...           ...  \n",
       "7279    49.762009          2.0          2.0         2.0           9.2  \n",
       "7280    56.239420          4.4          4.4         4.1          12.2  \n",
       "7281    56.989091          4.4          4.4         4.1          12.7  \n",
       "7282    58.917679         10.4         10.4         9.4           8.6  \n",
       "7283    49.818887         86.9         78.8         6.9          41.0  \n",
       "\n",
       "[7284 rows x 27 columns]"
      ]
     },
     "execution_count": 2,
     "metadata": {},
     "output_type": "execute_result"
    }
   ],
   "source": [
    "# Import our input dataset\n",
    "fire_data_df = pd.read_csv('../Resources/wildfire_data_final.csv')\n",
    "fire_data_df"
   ]
  },
  {
   "cell_type": "code",
   "execution_count": 3,
   "id": "eb6ef141",
   "metadata": {},
   "outputs": [
    {
     "data": {
      "text/plain": [
       "Index(['Fire_Size', 'Fire_Size_Class', 'Fire_Cause', 'Latitude', 'Longitude',\n",
       "       'State', 'Discovery_Month', 'Discovery_Date', 'Discovery_Year',\n",
       "       'Vegetation', 'Fire_Magnitude', 'Temp_Pre_30', 'Temp_Pre_15',\n",
       "       'Temp_Pre_7', 'Temp_Present', 'Wind_Pre_30', 'Wind_Pre_15',\n",
       "       'Wind_Pre_7', 'Wind_Present', 'Hum_Pre_30', 'Hum_Pre_15', 'Hum_Pre_7',\n",
       "       'Hum_Present', 'Prec_Pre_30', 'Prec_Pre_15', 'Prec_Pre_7',\n",
       "       'Prec_Present'],\n",
       "      dtype='object')"
      ]
     },
     "execution_count": 3,
     "metadata": {},
     "output_type": "execute_result"
    }
   ],
   "source": [
    "fire_data_df.columns"
   ]
  },
  {
   "cell_type": "code",
   "execution_count": 36,
   "id": "8df13fde",
   "metadata": {},
   "outputs": [
    {
     "data": {
      "text/html": [
       "<div>\n",
       "<style scoped>\n",
       "    .dataframe tbody tr th:only-of-type {\n",
       "        vertical-align: middle;\n",
       "    }\n",
       "\n",
       "    .dataframe tbody tr th {\n",
       "        vertical-align: top;\n",
       "    }\n",
       "\n",
       "    .dataframe thead th {\n",
       "        text-align: right;\n",
       "    }\n",
       "</style>\n",
       "<table border=\"1\" class=\"dataframe\">\n",
       "  <thead>\n",
       "    <tr style=\"text-align: right;\">\n",
       "      <th></th>\n",
       "      <th>Latitude</th>\n",
       "      <th>Longitude</th>\n",
       "      <th>State</th>\n",
       "      <th>Discovery_Month</th>\n",
       "      <th>Temp_Present</th>\n",
       "      <th>Wind_Present</th>\n",
       "      <th>Hum_Present</th>\n",
       "      <th>Prec_Present</th>\n",
       "    </tr>\n",
       "  </thead>\n",
       "  <tbody>\n",
       "    <tr>\n",
       "      <th>0</th>\n",
       "      <td>34.947800</td>\n",
       "      <td>-88.722500</td>\n",
       "      <td>MS</td>\n",
       "      <td>Feb</td>\n",
       "      <td>13.696600</td>\n",
       "      <td>3.369050</td>\n",
       "      <td>65.063800</td>\n",
       "      <td>124.5</td>\n",
       "    </tr>\n",
       "    <tr>\n",
       "      <th>1</th>\n",
       "      <td>30.904720</td>\n",
       "      <td>-93.557500</td>\n",
       "      <td>TX</td>\n",
       "      <td>Nov</td>\n",
       "      <td>11.985560</td>\n",
       "      <td>2.148857</td>\n",
       "      <td>70.732911</td>\n",
       "      <td>55.4</td>\n",
       "    </tr>\n",
       "    <tr>\n",
       "      <th>2</th>\n",
       "      <td>30.845339</td>\n",
       "      <td>-83.127987</td>\n",
       "      <td>GA</td>\n",
       "      <td>Mar</td>\n",
       "      <td>14.328047</td>\n",
       "      <td>1.750701</td>\n",
       "      <td>73.072072</td>\n",
       "      <td>40.5</td>\n",
       "    </tr>\n",
       "    <tr>\n",
       "      <th>3</th>\n",
       "      <td>42.731934</td>\n",
       "      <td>-77.905976</td>\n",
       "      <td>NY</td>\n",
       "      <td>Apr</td>\n",
       "      <td>11.375329</td>\n",
       "      <td>2.872771</td>\n",
       "      <td>59.956798</td>\n",
       "      <td>30.5</td>\n",
       "    </tr>\n",
       "    <tr>\n",
       "      <th>4</th>\n",
       "      <td>31.122200</td>\n",
       "      <td>-88.099400</td>\n",
       "      <td>AL</td>\n",
       "      <td>Jun</td>\n",
       "      <td>25.610425</td>\n",
       "      <td>2.623313</td>\n",
       "      <td>77.471227</td>\n",
       "      <td>154.3</td>\n",
       "    </tr>\n",
       "    <tr>\n",
       "      <th>...</th>\n",
       "      <td>...</td>\n",
       "      <td>...</td>\n",
       "      <td>...</td>\n",
       "      <td>...</td>\n",
       "      <td>...</td>\n",
       "      <td>...</td>\n",
       "      <td>...</td>\n",
       "      <td>...</td>\n",
       "    </tr>\n",
       "    <tr>\n",
       "      <th>7279</th>\n",
       "      <td>48.383600</td>\n",
       "      <td>-117.891900</td>\n",
       "      <td>WA</td>\n",
       "      <td>Aug</td>\n",
       "      <td>17.337247</td>\n",
       "      <td>2.918241</td>\n",
       "      <td>49.762009</td>\n",
       "      <td>9.2</td>\n",
       "    </tr>\n",
       "    <tr>\n",
       "      <th>7280</th>\n",
       "      <td>45.135700</td>\n",
       "      <td>-99.908700</td>\n",
       "      <td>SD</td>\n",
       "      <td>Apr</td>\n",
       "      <td>8.710361</td>\n",
       "      <td>5.456159</td>\n",
       "      <td>56.239420</td>\n",
       "      <td>12.2</td>\n",
       "    </tr>\n",
       "    <tr>\n",
       "      <th>7281</th>\n",
       "      <td>45.069700</td>\n",
       "      <td>-99.821100</td>\n",
       "      <td>SD</td>\n",
       "      <td>Apr</td>\n",
       "      <td>8.686747</td>\n",
       "      <td>5.316949</td>\n",
       "      <td>56.989091</td>\n",
       "      <td>12.7</td>\n",
       "    </tr>\n",
       "    <tr>\n",
       "      <th>7282</th>\n",
       "      <td>44.834600</td>\n",
       "      <td>-117.220600</td>\n",
       "      <td>OR</td>\n",
       "      <td>Sep</td>\n",
       "      <td>12.713333</td>\n",
       "      <td>2.292956</td>\n",
       "      <td>58.917679</td>\n",
       "      <td>8.6</td>\n",
       "    </tr>\n",
       "    <tr>\n",
       "      <th>7283</th>\n",
       "      <td>34.316000</td>\n",
       "      <td>-112.268300</td>\n",
       "      <td>AZ</td>\n",
       "      <td>Aug</td>\n",
       "      <td>24.465102</td>\n",
       "      <td>3.193614</td>\n",
       "      <td>49.818887</td>\n",
       "      <td>41.0</td>\n",
       "    </tr>\n",
       "  </tbody>\n",
       "</table>\n",
       "<p>7284 rows × 8 columns</p>\n",
       "</div>"
      ],
      "text/plain": [
       "       Latitude   Longitude State Discovery_Month  Temp_Present  Wind_Present  \\\n",
       "0     34.947800  -88.722500    MS             Feb     13.696600      3.369050   \n",
       "1     30.904720  -93.557500    TX             Nov     11.985560      2.148857   \n",
       "2     30.845339  -83.127987    GA             Mar     14.328047      1.750701   \n",
       "3     42.731934  -77.905976    NY             Apr     11.375329      2.872771   \n",
       "4     31.122200  -88.099400    AL             Jun     25.610425      2.623313   \n",
       "...         ...         ...   ...             ...           ...           ...   \n",
       "7279  48.383600 -117.891900    WA             Aug     17.337247      2.918241   \n",
       "7280  45.135700  -99.908700    SD             Apr      8.710361      5.456159   \n",
       "7281  45.069700  -99.821100    SD             Apr      8.686747      5.316949   \n",
       "7282  44.834600 -117.220600    OR             Sep     12.713333      2.292956   \n",
       "7283  34.316000 -112.268300    AZ             Aug     24.465102      3.193614   \n",
       "\n",
       "      Hum_Present  Prec_Present  \n",
       "0       65.063800         124.5  \n",
       "1       70.732911          55.4  \n",
       "2       73.072072          40.5  \n",
       "3       59.956798          30.5  \n",
       "4       77.471227         154.3  \n",
       "...           ...           ...  \n",
       "7279    49.762009           9.2  \n",
       "7280    56.239420          12.2  \n",
       "7281    56.989091          12.7  \n",
       "7282    58.917679           8.6  \n",
       "7283    49.818887          41.0  \n",
       "\n",
       "[7284 rows x 8 columns]"
      ]
     },
     "execution_count": 36,
     "metadata": {},
     "output_type": "execute_result"
    }
   ],
   "source": [
    "fire_clean_df=fire_data_df.drop(columns=[\"Fire_Size\",\"Fire_Size_Class\",\"Discovery_Date\",\"Discovery_Year\",\n",
    "                                          \"Fire_Magnitude\",\"Fire_Cause\",\n",
    "                                           \"Temp_Pre_30\",\"Temp_Pre_15\",\"Temp_Pre_7\",\n",
    "                                           \"Wind_Pre_30\",\"Wind_Pre_15\",\"Wind_Pre_7\",\n",
    "                                           \"Hum_Pre_30\", \"Hum_Pre_15\", \"Hum_Pre_7\",\n",
    "                                           \"Prec_Pre_30\", \"Prec_Pre_15\",\"Prec_Pre_7\",\n",
    "                                           \"Vegetation\"\n",
    "                                           ])\n",
    "fire_clean_df"
   ]
  },
  {
   "cell_type": "code",
   "execution_count": 37,
   "id": "5c52a63d",
   "metadata": {},
   "outputs": [
    {
     "data": {
      "text/html": [
       "<div>\n",
       "<style scoped>\n",
       "    .dataframe tbody tr th:only-of-type {\n",
       "        vertical-align: middle;\n",
       "    }\n",
       "\n",
       "    .dataframe tbody tr th {\n",
       "        vertical-align: top;\n",
       "    }\n",
       "\n",
       "    .dataframe thead th {\n",
       "        text-align: right;\n",
       "    }\n",
       "</style>\n",
       "<table border=\"1\" class=\"dataframe\">\n",
       "  <thead>\n",
       "    <tr style=\"text-align: right;\">\n",
       "      <th></th>\n",
       "      <th>State_AK</th>\n",
       "      <th>State_AL</th>\n",
       "      <th>State_AR</th>\n",
       "      <th>State_AZ</th>\n",
       "      <th>State_CA</th>\n",
       "      <th>State_CO</th>\n",
       "      <th>State_CT</th>\n",
       "      <th>State_DE</th>\n",
       "      <th>State_FL</th>\n",
       "      <th>State_GA</th>\n",
       "      <th>...</th>\n",
       "      <th>Discovery_Month_Dec</th>\n",
       "      <th>Discovery_Month_Feb</th>\n",
       "      <th>Discovery_Month_Jan</th>\n",
       "      <th>Discovery_Month_Jul</th>\n",
       "      <th>Discovery_Month_Jun</th>\n",
       "      <th>Discovery_Month_Mar</th>\n",
       "      <th>Discovery_Month_May</th>\n",
       "      <th>Discovery_Month_Nov</th>\n",
       "      <th>Discovery_Month_Oct</th>\n",
       "      <th>Discovery_Month_Sep</th>\n",
       "    </tr>\n",
       "  </thead>\n",
       "  <tbody>\n",
       "    <tr>\n",
       "      <th>0</th>\n",
       "      <td>0.0</td>\n",
       "      <td>0.0</td>\n",
       "      <td>0.0</td>\n",
       "      <td>0.0</td>\n",
       "      <td>0.0</td>\n",
       "      <td>0.0</td>\n",
       "      <td>0.0</td>\n",
       "      <td>0.0</td>\n",
       "      <td>0.0</td>\n",
       "      <td>0.0</td>\n",
       "      <td>...</td>\n",
       "      <td>0.0</td>\n",
       "      <td>1.0</td>\n",
       "      <td>0.0</td>\n",
       "      <td>0.0</td>\n",
       "      <td>0.0</td>\n",
       "      <td>0.0</td>\n",
       "      <td>0.0</td>\n",
       "      <td>0.0</td>\n",
       "      <td>0.0</td>\n",
       "      <td>0.0</td>\n",
       "    </tr>\n",
       "    <tr>\n",
       "      <th>1</th>\n",
       "      <td>0.0</td>\n",
       "      <td>0.0</td>\n",
       "      <td>0.0</td>\n",
       "      <td>0.0</td>\n",
       "      <td>0.0</td>\n",
       "      <td>0.0</td>\n",
       "      <td>0.0</td>\n",
       "      <td>0.0</td>\n",
       "      <td>0.0</td>\n",
       "      <td>0.0</td>\n",
       "      <td>...</td>\n",
       "      <td>0.0</td>\n",
       "      <td>0.0</td>\n",
       "      <td>0.0</td>\n",
       "      <td>0.0</td>\n",
       "      <td>0.0</td>\n",
       "      <td>0.0</td>\n",
       "      <td>0.0</td>\n",
       "      <td>1.0</td>\n",
       "      <td>0.0</td>\n",
       "      <td>0.0</td>\n",
       "    </tr>\n",
       "    <tr>\n",
       "      <th>2</th>\n",
       "      <td>0.0</td>\n",
       "      <td>0.0</td>\n",
       "      <td>0.0</td>\n",
       "      <td>0.0</td>\n",
       "      <td>0.0</td>\n",
       "      <td>0.0</td>\n",
       "      <td>0.0</td>\n",
       "      <td>0.0</td>\n",
       "      <td>0.0</td>\n",
       "      <td>1.0</td>\n",
       "      <td>...</td>\n",
       "      <td>0.0</td>\n",
       "      <td>0.0</td>\n",
       "      <td>0.0</td>\n",
       "      <td>0.0</td>\n",
       "      <td>0.0</td>\n",
       "      <td>1.0</td>\n",
       "      <td>0.0</td>\n",
       "      <td>0.0</td>\n",
       "      <td>0.0</td>\n",
       "      <td>0.0</td>\n",
       "    </tr>\n",
       "    <tr>\n",
       "      <th>3</th>\n",
       "      <td>0.0</td>\n",
       "      <td>0.0</td>\n",
       "      <td>0.0</td>\n",
       "      <td>0.0</td>\n",
       "      <td>0.0</td>\n",
       "      <td>0.0</td>\n",
       "      <td>0.0</td>\n",
       "      <td>0.0</td>\n",
       "      <td>0.0</td>\n",
       "      <td>0.0</td>\n",
       "      <td>...</td>\n",
       "      <td>0.0</td>\n",
       "      <td>0.0</td>\n",
       "      <td>0.0</td>\n",
       "      <td>0.0</td>\n",
       "      <td>0.0</td>\n",
       "      <td>0.0</td>\n",
       "      <td>0.0</td>\n",
       "      <td>0.0</td>\n",
       "      <td>0.0</td>\n",
       "      <td>0.0</td>\n",
       "    </tr>\n",
       "    <tr>\n",
       "      <th>4</th>\n",
       "      <td>0.0</td>\n",
       "      <td>1.0</td>\n",
       "      <td>0.0</td>\n",
       "      <td>0.0</td>\n",
       "      <td>0.0</td>\n",
       "      <td>0.0</td>\n",
       "      <td>0.0</td>\n",
       "      <td>0.0</td>\n",
       "      <td>0.0</td>\n",
       "      <td>0.0</td>\n",
       "      <td>...</td>\n",
       "      <td>0.0</td>\n",
       "      <td>0.0</td>\n",
       "      <td>0.0</td>\n",
       "      <td>0.0</td>\n",
       "      <td>1.0</td>\n",
       "      <td>0.0</td>\n",
       "      <td>0.0</td>\n",
       "      <td>0.0</td>\n",
       "      <td>0.0</td>\n",
       "      <td>0.0</td>\n",
       "    </tr>\n",
       "  </tbody>\n",
       "</table>\n",
       "<p>5 rows × 62 columns</p>\n",
       "</div>"
      ],
      "text/plain": [
       "   State_AK  State_AL  State_AR  State_AZ  State_CA  State_CO  State_CT  \\\n",
       "0       0.0       0.0       0.0       0.0       0.0       0.0       0.0   \n",
       "1       0.0       0.0       0.0       0.0       0.0       0.0       0.0   \n",
       "2       0.0       0.0       0.0       0.0       0.0       0.0       0.0   \n",
       "3       0.0       0.0       0.0       0.0       0.0       0.0       0.0   \n",
       "4       0.0       1.0       0.0       0.0       0.0       0.0       0.0   \n",
       "\n",
       "   State_DE  State_FL  State_GA  ...  Discovery_Month_Dec  \\\n",
       "0       0.0       0.0       0.0  ...                  0.0   \n",
       "1       0.0       0.0       0.0  ...                  0.0   \n",
       "2       0.0       0.0       1.0  ...                  0.0   \n",
       "3       0.0       0.0       0.0  ...                  0.0   \n",
       "4       0.0       0.0       0.0  ...                  0.0   \n",
       "\n",
       "   Discovery_Month_Feb  Discovery_Month_Jan  Discovery_Month_Jul  \\\n",
       "0                  1.0                  0.0                  0.0   \n",
       "1                  0.0                  0.0                  0.0   \n",
       "2                  0.0                  0.0                  0.0   \n",
       "3                  0.0                  0.0                  0.0   \n",
       "4                  0.0                  0.0                  0.0   \n",
       "\n",
       "   Discovery_Month_Jun  Discovery_Month_Mar  Discovery_Month_May  \\\n",
       "0                  0.0                  0.0                  0.0   \n",
       "1                  0.0                  0.0                  0.0   \n",
       "2                  0.0                  1.0                  0.0   \n",
       "3                  0.0                  0.0                  0.0   \n",
       "4                  1.0                  0.0                  0.0   \n",
       "\n",
       "   Discovery_Month_Nov  Discovery_Month_Oct  Discovery_Month_Sep  \n",
       "0                  0.0                  0.0                  0.0  \n",
       "1                  1.0                  0.0                  0.0  \n",
       "2                  0.0                  0.0                  0.0  \n",
       "3                  0.0                  0.0                  0.0  \n",
       "4                  0.0                  0.0                  0.0  \n",
       "\n",
       "[5 rows x 62 columns]"
      ]
     },
     "execution_count": 37,
     "metadata": {},
     "output_type": "execute_result"
    }
   ],
   "source": [
    "# Generate our categorical variable list\n",
    "fire_cat = fire_clean_df.dtypes[fire_clean_df.dtypes == \"object\"].index.tolist()\n",
    "\n",
    "# Check the number of unique values in each column\n",
    "fire_clean_df[fire_cat].nunique()\n",
    "\n",
    "# Create a OneHotEncoder instance\n",
    "enc = OneHotEncoder(sparse=False)\n",
    "\n",
    "# Fit and transform the OneHotEncoder using the categorical variable list\n",
    "encode_df = pd.DataFrame(enc.fit_transform(fire_clean_df[fire_cat]))\n",
    "\n",
    "# Add the encoded variable names to the DataFrame\n",
    "encode_df.columns = enc.get_feature_names(fire_cat)\n",
    "encode_df.head()"
   ]
  },
  {
   "cell_type": "code",
   "execution_count": 38,
   "id": "eacb6e46",
   "metadata": {},
   "outputs": [
    {
     "data": {
      "text/html": [
       "<div>\n",
       "<style scoped>\n",
       "    .dataframe tbody tr th:only-of-type {\n",
       "        vertical-align: middle;\n",
       "    }\n",
       "\n",
       "    .dataframe tbody tr th {\n",
       "        vertical-align: top;\n",
       "    }\n",
       "\n",
       "    .dataframe thead th {\n",
       "        text-align: right;\n",
       "    }\n",
       "</style>\n",
       "<table border=\"1\" class=\"dataframe\">\n",
       "  <thead>\n",
       "    <tr style=\"text-align: right;\">\n",
       "      <th></th>\n",
       "      <th>Latitude</th>\n",
       "      <th>Longitude</th>\n",
       "      <th>Temp_Present</th>\n",
       "      <th>Wind_Present</th>\n",
       "      <th>Hum_Present</th>\n",
       "      <th>Prec_Present</th>\n",
       "      <th>State_AK</th>\n",
       "      <th>State_AL</th>\n",
       "      <th>State_AR</th>\n",
       "      <th>State_AZ</th>\n",
       "      <th>...</th>\n",
       "      <th>Discovery_Month_Dec</th>\n",
       "      <th>Discovery_Month_Feb</th>\n",
       "      <th>Discovery_Month_Jan</th>\n",
       "      <th>Discovery_Month_Jul</th>\n",
       "      <th>Discovery_Month_Jun</th>\n",
       "      <th>Discovery_Month_Mar</th>\n",
       "      <th>Discovery_Month_May</th>\n",
       "      <th>Discovery_Month_Nov</th>\n",
       "      <th>Discovery_Month_Oct</th>\n",
       "      <th>Discovery_Month_Sep</th>\n",
       "    </tr>\n",
       "  </thead>\n",
       "  <tbody>\n",
       "    <tr>\n",
       "      <th>0</th>\n",
       "      <td>34.947800</td>\n",
       "      <td>-88.722500</td>\n",
       "      <td>13.696600</td>\n",
       "      <td>3.369050</td>\n",
       "      <td>65.063800</td>\n",
       "      <td>124.5</td>\n",
       "      <td>0.0</td>\n",
       "      <td>0.0</td>\n",
       "      <td>0.0</td>\n",
       "      <td>0.0</td>\n",
       "      <td>...</td>\n",
       "      <td>0.0</td>\n",
       "      <td>1.0</td>\n",
       "      <td>0.0</td>\n",
       "      <td>0.0</td>\n",
       "      <td>0.0</td>\n",
       "      <td>0.0</td>\n",
       "      <td>0.0</td>\n",
       "      <td>0.0</td>\n",
       "      <td>0.0</td>\n",
       "      <td>0.0</td>\n",
       "    </tr>\n",
       "    <tr>\n",
       "      <th>1</th>\n",
       "      <td>30.904720</td>\n",
       "      <td>-93.557500</td>\n",
       "      <td>11.985560</td>\n",
       "      <td>2.148857</td>\n",
       "      <td>70.732911</td>\n",
       "      <td>55.4</td>\n",
       "      <td>0.0</td>\n",
       "      <td>0.0</td>\n",
       "      <td>0.0</td>\n",
       "      <td>0.0</td>\n",
       "      <td>...</td>\n",
       "      <td>0.0</td>\n",
       "      <td>0.0</td>\n",
       "      <td>0.0</td>\n",
       "      <td>0.0</td>\n",
       "      <td>0.0</td>\n",
       "      <td>0.0</td>\n",
       "      <td>0.0</td>\n",
       "      <td>1.0</td>\n",
       "      <td>0.0</td>\n",
       "      <td>0.0</td>\n",
       "    </tr>\n",
       "    <tr>\n",
       "      <th>2</th>\n",
       "      <td>30.845339</td>\n",
       "      <td>-83.127987</td>\n",
       "      <td>14.328047</td>\n",
       "      <td>1.750701</td>\n",
       "      <td>73.072072</td>\n",
       "      <td>40.5</td>\n",
       "      <td>0.0</td>\n",
       "      <td>0.0</td>\n",
       "      <td>0.0</td>\n",
       "      <td>0.0</td>\n",
       "      <td>...</td>\n",
       "      <td>0.0</td>\n",
       "      <td>0.0</td>\n",
       "      <td>0.0</td>\n",
       "      <td>0.0</td>\n",
       "      <td>0.0</td>\n",
       "      <td>1.0</td>\n",
       "      <td>0.0</td>\n",
       "      <td>0.0</td>\n",
       "      <td>0.0</td>\n",
       "      <td>0.0</td>\n",
       "    </tr>\n",
       "    <tr>\n",
       "      <th>3</th>\n",
       "      <td>42.731934</td>\n",
       "      <td>-77.905976</td>\n",
       "      <td>11.375329</td>\n",
       "      <td>2.872771</td>\n",
       "      <td>59.956798</td>\n",
       "      <td>30.5</td>\n",
       "      <td>0.0</td>\n",
       "      <td>0.0</td>\n",
       "      <td>0.0</td>\n",
       "      <td>0.0</td>\n",
       "      <td>...</td>\n",
       "      <td>0.0</td>\n",
       "      <td>0.0</td>\n",
       "      <td>0.0</td>\n",
       "      <td>0.0</td>\n",
       "      <td>0.0</td>\n",
       "      <td>0.0</td>\n",
       "      <td>0.0</td>\n",
       "      <td>0.0</td>\n",
       "      <td>0.0</td>\n",
       "      <td>0.0</td>\n",
       "    </tr>\n",
       "    <tr>\n",
       "      <th>4</th>\n",
       "      <td>31.122200</td>\n",
       "      <td>-88.099400</td>\n",
       "      <td>25.610425</td>\n",
       "      <td>2.623313</td>\n",
       "      <td>77.471227</td>\n",
       "      <td>154.3</td>\n",
       "      <td>0.0</td>\n",
       "      <td>1.0</td>\n",
       "      <td>0.0</td>\n",
       "      <td>0.0</td>\n",
       "      <td>...</td>\n",
       "      <td>0.0</td>\n",
       "      <td>0.0</td>\n",
       "      <td>0.0</td>\n",
       "      <td>0.0</td>\n",
       "      <td>1.0</td>\n",
       "      <td>0.0</td>\n",
       "      <td>0.0</td>\n",
       "      <td>0.0</td>\n",
       "      <td>0.0</td>\n",
       "      <td>0.0</td>\n",
       "    </tr>\n",
       "  </tbody>\n",
       "</table>\n",
       "<p>5 rows × 68 columns</p>\n",
       "</div>"
      ],
      "text/plain": [
       "    Latitude  Longitude  Temp_Present  Wind_Present  Hum_Present  \\\n",
       "0  34.947800 -88.722500     13.696600      3.369050    65.063800   \n",
       "1  30.904720 -93.557500     11.985560      2.148857    70.732911   \n",
       "2  30.845339 -83.127987     14.328047      1.750701    73.072072   \n",
       "3  42.731934 -77.905976     11.375329      2.872771    59.956798   \n",
       "4  31.122200 -88.099400     25.610425      2.623313    77.471227   \n",
       "\n",
       "   Prec_Present  State_AK  State_AL  State_AR  State_AZ  ...  \\\n",
       "0         124.5       0.0       0.0       0.0       0.0  ...   \n",
       "1          55.4       0.0       0.0       0.0       0.0  ...   \n",
       "2          40.5       0.0       0.0       0.0       0.0  ...   \n",
       "3          30.5       0.0       0.0       0.0       0.0  ...   \n",
       "4         154.3       0.0       1.0       0.0       0.0  ...   \n",
       "\n",
       "   Discovery_Month_Dec  Discovery_Month_Feb  Discovery_Month_Jan  \\\n",
       "0                  0.0                  1.0                  0.0   \n",
       "1                  0.0                  0.0                  0.0   \n",
       "2                  0.0                  0.0                  0.0   \n",
       "3                  0.0                  0.0                  0.0   \n",
       "4                  0.0                  0.0                  0.0   \n",
       "\n",
       "   Discovery_Month_Jul  Discovery_Month_Jun  Discovery_Month_Mar  \\\n",
       "0                  0.0                  0.0                  0.0   \n",
       "1                  0.0                  0.0                  0.0   \n",
       "2                  0.0                  0.0                  1.0   \n",
       "3                  0.0                  0.0                  0.0   \n",
       "4                  0.0                  1.0                  0.0   \n",
       "\n",
       "   Discovery_Month_May  Discovery_Month_Nov  Discovery_Month_Oct  \\\n",
       "0                  0.0                  0.0                  0.0   \n",
       "1                  0.0                  1.0                  0.0   \n",
       "2                  0.0                  0.0                  0.0   \n",
       "3                  0.0                  0.0                  0.0   \n",
       "4                  0.0                  0.0                  0.0   \n",
       "\n",
       "   Discovery_Month_Sep  \n",
       "0                  0.0  \n",
       "1                  0.0  \n",
       "2                  0.0  \n",
       "3                  0.0  \n",
       "4                  0.0  \n",
       "\n",
       "[5 rows x 68 columns]"
      ]
     },
     "execution_count": 38,
     "metadata": {},
     "output_type": "execute_result"
    }
   ],
   "source": [
    "# Merge one-hot encoded features and drop the originals\n",
    "x_df = fire_clean_df.merge(encode_df,left_index=True, right_index=True)\n",
    "x_df = x_df.drop(fire_cat,1)\n",
    "x_df.head()"
   ]
  },
  {
   "cell_type": "code",
   "execution_count": 39,
   "id": "c1ef43da",
   "metadata": {},
   "outputs": [],
   "source": [
    "# Remove target from features data\n",
    "import numpy as np\n",
    "y = np.reshape(fire_data_df.Fire_Size_Class.values,(-1,1))\n",
    "X = x_df\n",
    "# Split training/test datasets\n",
    "X_train, X_test, y_train, y_test = train_test_split(X, y, random_state=42)\n",
    "\n",
    "# Create a StandardScaler instance\n",
    "scaler = StandardScaler()\n",
    "\n",
    "# Fit the StandardScaler\n",
    "X_scaler = scaler.fit(X_train)\n",
    "\n",
    "# Scale the data\n",
    "X_train_scaled = X_scaler.transform(X_train)\n",
    "X_test_scaled = X_scaler.transform(X_test)"
   ]
  },
  {
   "cell_type": "code",
   "execution_count": 40,
   "id": "12cddf83",
   "metadata": {},
   "outputs": [
    {
     "name": "stderr",
     "output_type": "stream",
     "text": [
      "C:\\Users\\k9350\\anaconda3\\envs\\mlenv\\lib\\site-packages\\ipykernel_launcher.py:5: DataConversionWarning: A column-vector y was passed when a 1d array was expected. Please change the shape of y to (n_samples,), for example using ravel().\n",
      "  \"\"\"\n"
     ]
    }
   ],
   "source": [
    "    # Create a random forest Classifier.\n",
    "rf_model = RandomForestClassifier(n_estimators=100, random_state=2)\n",
    "\n",
    "# Fitting the model\n",
    "rf_model = rf_model.fit(X_train_scaled, y_train)"
   ]
  },
  {
   "cell_type": "code",
   "execution_count": 23,
   "id": "7b12788e",
   "metadata": {},
   "outputs": [
    {
     "data": {
      "text/plain": [
       "0.6727073036792971"
      ]
     },
     "execution_count": 23,
     "metadata": {},
     "output_type": "execute_result"
    }
   ],
   "source": [
    "# Evaluate the model with \"Temp_Present\",\"Wind_Present\",\"Hum_Present\",\"Prec_Present\",\"Vegetation\"\n",
    "y_pred = rf_model.predict(X_test_scaled)\n",
    "from sklearn.metrics import accuracy_score\n",
    "rf_model.score(X_test_scaled, y_test)\n",
    "# score 0.6727073036792971"
   ]
  },
  {
   "cell_type": "code",
   "execution_count": 29,
   "id": "524b031a",
   "metadata": {},
   "outputs": [
    {
     "name": "stderr",
     "output_type": "stream",
     "text": [
      "C:\\Users\\k9350\\anaconda3\\envs\\mlenv\\lib\\site-packages\\ipykernel_launcher.py:5: DataConversionWarning: A column-vector y was passed when a 1d array was expected. Please change the shape of y to (n_samples,), for example using ravel().\n",
      "  \"\"\"\n"
     ]
    }
   ],
   "source": [
    "    # Create a random forest Classifier.\n",
    "rf_model = RandomForestClassifier(n_estimators=100, random_state=2)\n",
    "\n",
    "# Fitting the model\n",
    "rf_model = rf_model.fit(X_train_scaled, y_train)"
   ]
  },
  {
   "cell_type": "code",
   "execution_count": 30,
   "id": "ae65c804",
   "metadata": {},
   "outputs": [
    {
     "data": {
      "text/plain": [
       "0.6490939044481054"
      ]
     },
     "execution_count": 30,
     "metadata": {},
     "output_type": "execute_result"
    }
   ],
   "source": [
    "# Evaluate the model without \"Temp_Present\",\"Wind_Present\",\"Hum_Present\",\"Prec_Present\",\"Vegetation\"\n",
    "y_pred = rf_model.predict(X_test_scaled)\n",
    "from sklearn.metrics import accuracy_score\n",
    "rf_model.score(X_test_scaled, y_test)\n",
    "#score 0.6490939044481054"
   ]
  },
  {
   "cell_type": "code",
   "execution_count": 41,
   "id": "4a3ac9e9",
   "metadata": {},
   "outputs": [
    {
     "data": {
      "text/plain": [
       "0.6688632619439868"
      ]
     },
     "execution_count": 41,
     "metadata": {},
     "output_type": "execute_result"
    }
   ],
   "source": [
    "# Evaluate the model without \"Vegetation\"\n",
    "y_pred = rf_model.predict(X_test_scaled)\n",
    "from sklearn.metrics import accuracy_score\n",
    "rf_model.score(X_test_scaled, y_test)\n",
    "#score 0.6688632619439868"
   ]
  },
  {
   "cell_type": "code",
   "execution_count": 42,
   "id": "daa934f4",
   "metadata": {},
   "outputs": [
    {
     "name": "stderr",
     "output_type": "stream",
     "text": [
      "C:\\Users\\k9350\\anaconda3\\envs\\mlenv\\lib\\site-packages\\ipykernel_launcher.py:5: DataConversionWarning: A column-vector y was passed when a 1d array was expected. Please change the shape of y to (n_samples,), for example using ravel().\n",
      "  \"\"\"\n"
     ]
    }
   ],
   "source": [
    "# Create a random forest Classifier.\n",
    "rf_model = RandomForestClassifier(n_estimators=100, random_state=2,max_depth=15)\n",
    "\n",
    "# Fitting the model\n",
    "rf_model = rf_model.fit(X_train_scaled, y_train)"
   ]
  },
  {
   "cell_type": "code",
   "execution_count": 43,
   "id": "ee80472f",
   "metadata": {},
   "outputs": [
    {
     "data": {
      "text/plain": [
       "0.6842394288852279"
      ]
     },
     "execution_count": 43,
     "metadata": {},
     "output_type": "execute_result"
    }
   ],
   "source": [
    "# Evaluate the model without \"Vegetation\"\n",
    "y_pred = rf_model.predict(X_test_scaled)\n",
    "from sklearn.metrics import accuracy_score\n",
    "rf_model.score(X_test_scaled, y_test)\n",
    "#score 0.6842394288852279 max_depth=15"
   ]
  },
  {
   "cell_type": "code",
   "execution_count": 44,
   "id": "80353e18",
   "metadata": {},
   "outputs": [
    {
     "name": "stderr",
     "output_type": "stream",
     "text": [
      "C:\\Users\\k9350\\anaconda3\\envs\\mlenv\\lib\\site-packages\\ipykernel_launcher.py:5: DataConversionWarning: A column-vector y was passed when a 1d array was expected. Please change the shape of y to (n_samples,), for example using ravel().\n",
      "  \"\"\"\n"
     ]
    }
   ],
   "source": [
    "# Create a random forest Classifier.\n",
    "rf_model = RandomForestClassifier(n_estimators=100, random_state=2,max_depth=10)\n",
    "\n",
    "# Fitting the model\n",
    "rf_model = rf_model.fit(X_train_scaled, y_train)"
   ]
  },
  {
   "cell_type": "code",
   "execution_count": 45,
   "id": "38c4367e",
   "metadata": {},
   "outputs": [
    {
     "data": {
      "text/plain": [
       "0.6825919824272377"
      ]
     },
     "execution_count": 45,
     "metadata": {},
     "output_type": "execute_result"
    }
   ],
   "source": [
    "# Evaluate the model without \"Vegetation\"\n",
    "y_pred = rf_model.predict(X_test_scaled)\n",
    "from sklearn.metrics import accuracy_score\n",
    "rf_model.score(X_test_scaled, y_test)\n",
    "#score  0.6825919824272377 max_depth=10"
   ]
  },
  {
   "cell_type": "code",
   "execution_count": 46,
   "id": "617bb3f7",
   "metadata": {},
   "outputs": [
    {
     "name": "stderr",
     "output_type": "stream",
     "text": [
      "C:\\Users\\k9350\\anaconda3\\envs\\mlenv\\lib\\site-packages\\ipykernel_launcher.py:5: DataConversionWarning: A column-vector y was passed when a 1d array was expected. Please change the shape of y to (n_samples,), for example using ravel().\n",
      "  \"\"\"\n"
     ]
    }
   ],
   "source": [
    "# Create a random forest Classifier.\n",
    "rf_model = RandomForestClassifier(n_estimators=100, random_state=2,max_depth=20)\n",
    "\n",
    "# Fitting the model\n",
    "rf_model = rf_model.fit(X_train_scaled, y_train)"
   ]
  },
  {
   "cell_type": "code",
   "execution_count": 47,
   "id": "b7987a90",
   "metadata": {},
   "outputs": [
    {
     "data": {
      "text/plain": [
       "0.6809445359692476"
      ]
     },
     "execution_count": 47,
     "metadata": {},
     "output_type": "execute_result"
    }
   ],
   "source": [
    "# Evaluate the model without \"Vegetation\"\n",
    "y_pred = rf_model.predict(X_test_scaled)\n",
    "from sklearn.metrics import accuracy_score\n",
    "rf_model.score(X_test_scaled, y_test)\n",
    "#score  0.6809445359692476 max_depth=20"
   ]
  },
  {
   "cell_type": "code",
   "execution_count": 48,
   "id": "477b6023",
   "metadata": {},
   "outputs": [
    {
     "name": "stderr",
     "output_type": "stream",
     "text": [
      "C:\\Users\\k9350\\anaconda3\\envs\\mlenv\\lib\\site-packages\\ipykernel_launcher.py:5: DataConversionWarning: A column-vector y was passed when a 1d array was expected. Please change the shape of y to (n_samples,), for example using ravel().\n",
      "  \"\"\"\n"
     ]
    }
   ],
   "source": [
    "# Create a random forest Classifier.\n",
    "rf_model = RandomForestClassifier(n_estimators=50, random_state=2,max_depth=15)\n",
    "\n",
    "# Fitting the model\n",
    "rf_model = rf_model.fit(X_train_scaled, y_train)"
   ]
  },
  {
   "cell_type": "code",
   "execution_count": 49,
   "id": "af8ecbb8",
   "metadata": {},
   "outputs": [
    {
     "data": {
      "text/plain": [
       "0.6836902800658978"
      ]
     },
     "execution_count": 49,
     "metadata": {},
     "output_type": "execute_result"
    }
   ],
   "source": [
    "# Evaluate the model without \"Vegetation\"\n",
    "y_pred = rf_model.predict(X_test_scaled)\n",
    "from sklearn.metrics import accuracy_score\n",
    "rf_model.score(X_test_scaled, y_test)\n",
    "#score  0.6809445359692476 max_depth=15 n_estimators=50"
   ]
  },
  {
   "cell_type": "code",
   "execution_count": 50,
   "id": "437002e5",
   "metadata": {},
   "outputs": [
    {
     "name": "stderr",
     "output_type": "stream",
     "text": [
      "C:\\Users\\k9350\\anaconda3\\envs\\mlenv\\lib\\site-packages\\ipykernel_launcher.py:5: DataConversionWarning: A column-vector y was passed when a 1d array was expected. Please change the shape of y to (n_samples,), for example using ravel().\n",
      "  \"\"\"\n"
     ]
    }
   ],
   "source": [
    "# Create a random forest Classifier.\n",
    "rf_model = RandomForestClassifier(n_estimators=150, random_state=2,max_depth=15)\n",
    "\n",
    "# Fitting the model\n",
    "rf_model = rf_model.fit(X_train_scaled, y_train)"
   ]
  },
  {
   "cell_type": "code",
   "execution_count": 51,
   "id": "a93a6c0e",
   "metadata": {},
   "outputs": [
    {
     "data": {
      "text/plain": [
       "0.6831411312465678"
      ]
     },
     "execution_count": 51,
     "metadata": {},
     "output_type": "execute_result"
    }
   ],
   "source": [
    "# Evaluate the model without \"Vegetation\"\n",
    "y_pred = rf_model.predict(X_test_scaled)\n",
    "from sklearn.metrics import accuracy_score\n",
    "rf_model.score(X_test_scaled, y_test)\n",
    "#score  0.6831411312465678 max_depth=15 n_estimators=150"
   ]
  },
  {
   "cell_type": "code",
   "execution_count": 54,
   "id": "116e320d",
   "metadata": {},
   "outputs": [
    {
     "name": "stderr",
     "output_type": "stream",
     "text": [
      "C:\\Users\\k9350\\anaconda3\\envs\\mlenv\\lib\\site-packages\\ipykernel_launcher.py:5: DataConversionWarning: A column-vector y was passed when a 1d array was expected. Please change the shape of y to (n_samples,), for example using ravel().\n",
      "  \"\"\"\n"
     ]
    }
   ],
   "source": [
    "# Create a random forest Classifier.\n",
    "rf_model = RandomForestClassifier(n_estimators=500, random_state=2,max_depth=15)\n",
    "\n",
    "# Fitting the model\n",
    "rf_model = rf_model.fit(X_train_scaled, y_train)"
   ]
  },
  {
   "cell_type": "code",
   "execution_count": 55,
   "id": "ccd82660",
   "metadata": {},
   "outputs": [
    {
     "data": {
      "text/plain": [
       "0.6842394288852279"
      ]
     },
     "execution_count": 55,
     "metadata": {},
     "output_type": "execute_result"
    }
   ],
   "source": [
    "# Evaluate the model without \"Vegetation\"\n",
    "y_pred = rf_model.predict(X_test_scaled)\n",
    "from sklearn.metrics import accuracy_score\n",
    "rf_model.score(X_test_scaled, y_test)\n",
    "#score  0.6842394288852279 max_depth=15 n_estimators=500"
   ]
  },
  {
   "cell_type": "code",
   "execution_count": 64,
   "id": "8a04a62f",
   "metadata": {},
   "outputs": [
    {
     "name": "stderr",
     "output_type": "stream",
     "text": [
      "C:\\Users\\k9350\\anaconda3\\envs\\mlenv\\lib\\site-packages\\ipykernel_launcher.py:5: DataConversionWarning: A column-vector y was passed when a 1d array was expected. Please change the shape of y to (n_samples,), for example using ravel().\n",
      "  \"\"\"\n"
     ]
    }
   ],
   "source": [
    "# Create a random forest Classifier.\n",
    "rf_model = RandomForestClassifier(n_estimators=600, random_state=1,max_depth=15)\n",
    "\n",
    "# Fitting the model\n",
    "rf_model = rf_model.fit(X_train_scaled, y_train)"
   ]
  },
  {
   "cell_type": "code",
   "execution_count": 65,
   "id": "413c67ae",
   "metadata": {},
   "outputs": [
    {
     "data": {
      "text/plain": [
       "0.6820428336079077"
      ]
     },
     "execution_count": 65,
     "metadata": {},
     "output_type": "execute_result"
    }
   ],
   "source": [
    "# Evaluate the model without \"Vegetation\"\n",
    "y_pred = rf_model.predict(X_test_scaled)\n",
    "from sklearn.metrics import accuracy_score\n",
    "rf_model.score(X_test_scaled, y_test)\n",
    "#score  0.6842394288852279 max_depth=15 n_estimators=500,min_samples_split=5"
   ]
  },
  {
   "cell_type": "code",
   "execution_count": 67,
   "id": "61149603",
   "metadata": {},
   "outputs": [
    {
     "name": "stderr",
     "output_type": "stream",
     "text": [
      "C:\\Users\\k9350\\anaconda3\\envs\\mlenv\\lib\\site-packages\\sklearn\\utils\\validation.py:63: DataConversionWarning: A column-vector y was passed when a 1d array was expected. Please change the shape of y to (n_samples, ), for example using ravel().\n",
      "  return f(*args, **kwargs)\n"
     ]
    },
    {
     "name": "stdout",
     "output_type": "stream",
     "text": [
      "Learning rate:  0.05\n",
      "Accuracy score (training): 0.670\n",
      "Accuracy score (validation): 0.660\n"
     ]
    },
    {
     "name": "stderr",
     "output_type": "stream",
     "text": [
      "C:\\Users\\k9350\\anaconda3\\envs\\mlenv\\lib\\site-packages\\sklearn\\utils\\validation.py:63: DataConversionWarning: A column-vector y was passed when a 1d array was expected. Please change the shape of y to (n_samples, ), for example using ravel().\n",
      "  return f(*args, **kwargs)\n"
     ]
    },
    {
     "name": "stdout",
     "output_type": "stream",
     "text": [
      "Learning rate:  0.1\n",
      "Accuracy score (training): 0.689\n",
      "Accuracy score (validation): 0.673\n"
     ]
    },
    {
     "name": "stderr",
     "output_type": "stream",
     "text": [
      "C:\\Users\\k9350\\anaconda3\\envs\\mlenv\\lib\\site-packages\\sklearn\\utils\\validation.py:63: DataConversionWarning: A column-vector y was passed when a 1d array was expected. Please change the shape of y to (n_samples, ), for example using ravel().\n",
      "  return f(*args, **kwargs)\n"
     ]
    },
    {
     "name": "stdout",
     "output_type": "stream",
     "text": [
      "Learning rate:  0.25\n",
      "Accuracy score (training): 0.712\n",
      "Accuracy score (validation): 0.676\n"
     ]
    },
    {
     "name": "stderr",
     "output_type": "stream",
     "text": [
      "C:\\Users\\k9350\\anaconda3\\envs\\mlenv\\lib\\site-packages\\sklearn\\utils\\validation.py:63: DataConversionWarning: A column-vector y was passed when a 1d array was expected. Please change the shape of y to (n_samples, ), for example using ravel().\n",
      "  return f(*args, **kwargs)\n"
     ]
    },
    {
     "name": "stdout",
     "output_type": "stream",
     "text": [
      "Learning rate:  0.5\n",
      "Accuracy score (training): 0.724\n",
      "Accuracy score (validation): 0.680\n"
     ]
    },
    {
     "name": "stderr",
     "output_type": "stream",
     "text": [
      "C:\\Users\\k9350\\anaconda3\\envs\\mlenv\\lib\\site-packages\\sklearn\\utils\\validation.py:63: DataConversionWarning: A column-vector y was passed when a 1d array was expected. Please change the shape of y to (n_samples, ), for example using ravel().\n",
      "  return f(*args, **kwargs)\n"
     ]
    },
    {
     "name": "stdout",
     "output_type": "stream",
     "text": [
      "Learning rate:  0.75\n",
      "Accuracy score (training): 0.716\n",
      "Accuracy score (validation): 0.651\n"
     ]
    },
    {
     "name": "stderr",
     "output_type": "stream",
     "text": [
      "C:\\Users\\k9350\\anaconda3\\envs\\mlenv\\lib\\site-packages\\sklearn\\utils\\validation.py:63: DataConversionWarning: A column-vector y was passed when a 1d array was expected. Please change the shape of y to (n_samples, ), for example using ravel().\n",
      "  return f(*args, **kwargs)\n"
     ]
    },
    {
     "name": "stdout",
     "output_type": "stream",
     "text": [
      "Learning rate:  1\n",
      "Accuracy score (training): 0.720\n",
      "Accuracy score (validation): 0.650\n"
     ]
    }
   ],
   "source": [
    "from sklearn.ensemble import GradientBoostingClassifier\n",
    "learning_rates = [0.05, 0.1, 0.25, 0.5, 0.75, 1]\n",
    "for learning_rate in learning_rates:\n",
    "    classifier = GradientBoostingClassifier(n_estimators=20,\n",
    "    learning_rate=learning_rate,\n",
    "    max_features=5,\n",
    "    max_depth=3,\n",
    "    random_state=0)\n",
    "    classifier.fit(X_train_scaled, y_train)\n",
    "    print(\"Learning rate: \", learning_rate)\n",
    "    print(\"Accuracy score (training): {0:.3f}\".format(classifier.score(X_train_scaled,y_train)))\n",
    "    print(\"Accuracy score (validation): {0:.3f}\".format(classifier.score(X_test_scaled,y_test)))"
   ]
  },
  {
   "cell_type": "code",
   "execution_count": 68,
   "id": "639428f9",
   "metadata": {},
   "outputs": [
    {
     "name": "stderr",
     "output_type": "stream",
     "text": [
      "C:\\Users\\k9350\\anaconda3\\envs\\mlenv\\lib\\site-packages\\sklearn\\utils\\validation.py:63: DataConversionWarning: A column-vector y was passed when a 1d array was expected. Please change the shape of y to (n_samples, ), for example using ravel().\n",
      "  return f(*args, **kwargs)\n"
     ]
    },
    {
     "name": "stdout",
     "output_type": "stream",
     "text": [
      "0.008786381109280615\n"
     ]
    }
   ],
   "source": [
    "from sklearn.linear_model import LogisticRegression\n",
    "classifier = LogisticRegression(solver='lbfgs',max_iter=200,random_state=1)\n",
    "classifier.fit(X_train_scaled, y_train)\n",
    "y_pred = classifier.predict(X_test)\n",
    "from sklearn.metrics import accuracy_score\n",
    "print(accuracy_score(y_test, y_pred))"
   ]
  },
  {
   "cell_type": "code",
   "execution_count": null,
   "id": "2466ae01",
   "metadata": {},
   "outputs": [],
   "source": []
  }
 ],
 "metadata": {
  "kernelspec": {
   "display_name": "mlenv",
   "language": "python",
   "name": "mlenv"
  },
  "language_info": {
   "codemirror_mode": {
    "name": "ipython",
    "version": 3
   },
   "file_extension": ".py",
   "mimetype": "text/x-python",
   "name": "python",
   "nbconvert_exporter": "python",
   "pygments_lexer": "ipython3",
   "version": "3.7.10"
  }
 },
 "nbformat": 4,
 "nbformat_minor": 5
}
